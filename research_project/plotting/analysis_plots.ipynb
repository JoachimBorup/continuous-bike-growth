{
 "cells": [
  {
   "cell_type": "code",
   "execution_count": null,
   "metadata": {},
   "outputs": [],
   "source": [
    "import pandas as pd\n",
    "import numpy as np\n",
    "import matplotlib.pyplot as plt\n",
    "import seaborn as sns\n",
    "import os as os"
   ]
  },
  {
   "cell_type": "code",
   "execution_count": null,
   "metadata": {},
   "outputs": [],
   "source": [
    "#while joachim has mixed bikengrowth_disconnected_pairs and continuous_disconnected_pairs\n",
    "disconnect_pairs = \"bikengrowth_disconnected_pairs\""
   ]
  },
  {
   "cell_type": "code",
   "execution_count": null,
   "metadata": {},
   "outputs": [],
   "source": [
    "measureDict = {}\n",
    "file_names = []\n",
    "source_folder = '../csv_data'\n",
    "for file_name in os.listdir(source_folder):\n",
    "    if file_name.endswith('.csv'):\n",
    "        file_names.append(file_name)\n",
    "\n",
    "for file_name in file_names:\n",
    "    # Split the file name into parts\n",
    "    parts = file_name.split('_')\n",
    "    city = parts[0]  # The first part is the city\n",
    "    measure = parts[1]  # The second part is the measure\n",
    "        \n",
    "        # The rest are the percentiles (everything from the third element up to '.csv')\n",
    "    percentiles = '_'.join(parts[2:]).replace('.csv', '')\n",
    "    if measure not in measureDict:\n",
    "        measureDict[measure] = [file_name]\n",
    "    else:\n",
    "        measureDict[measure].append(file_name)"
   ]
  },
  {
   "cell_type": "code",
   "execution_count": null,
   "metadata": {},
   "outputs": [],
   "source": [
    "#df dict\n",
    "df_dict = {}\n",
    "for file_name in file_names:\n",
    "    df = pd.read_csv(source_folder +\"/\"+ file_name)\n",
    "    df_dict[file_name] = df\n",
    "\n",
    "#all df merged with new columns for measure and percentile\n",
    "megadf = pd.DataFrame() \n",
    "for key in df_dict:\n",
    "    df = df_dict[key]\n",
    "    parts = key.split('_')\n",
    "    city = parts[0]  # The first part is the city\n",
    "    measure = parts[1]  # The second part is the measure\n",
    "    percentiles = '_'.join(parts[2:]).replace('.csv', '')\n",
    "    df['measure'] = measure\n",
    "    df['percentile'] = percentiles\n",
    "    megadf = pd.concat([megadf, df], ignore_index=True)\n",
    "\n",
    "grouped = megadf.copy()"
   ]
  },
  {
   "cell_type": "code",
   "execution_count": null,
   "metadata": {},
   "outputs": [],
   "source": [
    "#create column for mean error for every percentile grouped by measure\n",
    "grouped['mean_error'] = megadf.groupby(['measure', 'percentile'])['sum_of_errors'].transform('mean')"
   ]
  },
  {
   "cell_type": "code",
   "execution_count": null,
   "metadata": {},
   "outputs": [],
   "source": [
    "sns.catplot(data=grouped, kind=\"bar\", y=\"mean_error\", x=\"measure\", hue=\"percentile\", errorbar=None)"
   ]
  },
  {
   "cell_type": "code",
   "execution_count": null,
   "metadata": {},
   "outputs": [],
   "source": [
    "# get mean error form file bern_betweenness_0.33_0.33_0.34.csv\n",
    "meantestdf = pd.read_csv('../csv_data/' + \"bern_betweenness_0.33_0.33_0.34.csv\")\n",
    "#get mean\n",
    "mean = meantestdf['sum_of_errors'].mean()\n",
    "print(\"sanity check that betweeness 0.33_0.33_0.34 mean is in ballpark: \", mean)"
   ]
  },
  {
   "cell_type": "code",
   "execution_count": null,
   "metadata": {},
   "outputs": [],
   "source": [
    "#make the cat plot larger as you cannot see the percentiles\n",
    "sns.catplot(data=grouped, kind=\"bar\", y=\"mean_error\", x=\"percentile\", hue=\"measure\", errorbar=None)\n",
    "#rotate x-axis labels\n",
    "plt.xticks(rotation=45)\n",
    "#make measure bold\n",
    "plt.ylabel(\"Mean error\")\n",
    "plt.xlabel(\"Percentile\")\n",
    "plt.show()"
   ]
  },
  {
   "cell_type": "code",
   "execution_count": null,
   "metadata": {},
   "outputs": [],
   "source": [
    "def erros_vs_discon_points(file_name, name):\n",
    "    df = pd.read_csv(source_folder +\"/\"+ file_name)\n",
    "# Sort data by sum_of_errors in descending order\n",
    "    df_sorted = df.sort_values(by=\"sum_of_errors\", ascending=False).reset_index(drop=True)\n",
    "\n",
    "    # Create the figure and primary axis\n",
    "    fig, ax1 = plt.subplots(figsize=(12, 6))\n",
    "\n",
    "    # Plot the histogram of sum_of_errors on the primary y-axis\n",
    "    sns.histplot(df_sorted[\"sum_of_errors\"], bins=10, color=\"gray\", alpha=0.5, ax=ax1, label=\"Histogram of Errors\")\n",
    "    ax1.set_xlabel(\"Sum of Errors (Sorted Highest to Lowest)\")\n",
    "    ax1.set_ylabel(\"Frequency of Errors\", color=\"gray\")\n",
    "    ax1.tick_params(axis=\"y\", labelcolor=\"gray\")\n",
    "\n",
    "    # Create a secondary y-axis for disconnected points\n",
    "    ax2 = ax1.twinx()\n",
    "    ax2.plot(df_sorted[\"sum_of_errors\"], df_sorted[disconnect_pairs], marker=\"o\", label=\"Continuous Disconnected Pairs\", color=\"blue\")\n",
    "    ax2.set_ylabel(\"Disconnected Points\", color=\"black\")\n",
    "    ax2.tick_params(axis=\"y\", labelcolor=\"black\")\n",
    "\n",
    "    # Combine legends\n",
    "    lines1, labels1 = ax1.get_legend_handles_labels()\n",
    "    lines2, labels2 = ax2.get_legend_handles_labels()\n",
    "    ax2.legend(lines1 + lines2, labels1 + labels2, loc=\"upper left\")\n",
    "\n",
    "    # Add a title and grid\n",
    "    plt.title(\"Disconnected Points vs. Histogram of Sum of Errors with \" + name)    \n",
    "    plt.grid(axis=\"y\", linestyle=\"--\", alpha=0.5)\n",
    "\n",
    "    # Show the plot\n",
    "    plt.tight_layout()\n",
    "    plt.show() "
   ]
  },
  {
   "cell_type": "code",
   "execution_count": null,
   "metadata": {},
   "outputs": [],
   "source": [
    "# Replace with the path to your CSV file\n",
    "def scatterplot(file_path, name):\n",
    "    df = pd.read_csv(file_path)\n",
    "\n",
    "    # Scatter plot with regression line for continuous_disconnected_points vs. sum_of_errors\n",
    "    plt.figure(figsize=(12, 6))\n",
    "    sns.regplot(x=\"sum_of_errors\", y=disconnect_pairs, data=df, scatter_kws={'color':'blue'}, line_kws={'color':'red'})\n",
    "    plt.xlabel(\"Sum of Errors\")\n",
    "    plt.ylabel(\"Continuous Disconnected Points\")\n",
    "    plt.title(\"Sum of Errors vs. Continuous Disconnected Points with \" + name)\n",
    "    plt.show()"
   ]
  },
  {
   "cell_type": "code",
   "execution_count": null,
   "metadata": {},
   "outputs": [],
   "source": [
    "def heatmap(df):\n",
    "\n",
    "    # Calculate the correlation matrix\n",
    "    corr_matrix = df.corr()\n",
    "\n",
    "    # Plot the heatmap\n",
    "    plt.figure(figsize=(10, 6))\n",
    "    sns.heatmap(corr_matrix, annot=True, cmap=\"coolwarm\", fmt=\".2f\", linewidths=0.5)\n",
    "    plt.title(\"Correlation Heatmap of Variables\")\n",
    "    plt.show()\n",
    "def change_strings_to_numbers(df):\n",
    "    #show 20 first rows\n",
    "    #map measure to a number \n",
    "    df['measure'] = megadf['measure'].map({'betweenness': 1, 'closeness': 2, 'random': 3,})\n",
    "\n",
    "#map percentile to a number\n",
    "    df['percentile'] = megadf['percentile'].map({'0.75_0.25': 1,'_0.25_0.75':2, '0.25_0.25_0.25_0.25': 3, '0.33_0.33_0.34': 4,})\n",
    "    return df\n",
    "\n",
    "heatmap(change_strings_to_numbers(megadf.copy()))"
   ]
  },
  {
   "cell_type": "code",
   "execution_count": null,
   "metadata": {},
   "outputs": [],
   "source": [
    "# \n",
    "# for f in file_names:\n",
    "#     heatmap(source_folder +\"/\"+ f, f.split(\".\")[0])\n",
    "#heatmap(megadf)\n",
    "# ValueError: could not convert string to float: 'closeness'\n",
    "\n",
    "#bell curve plot for sums_of_errors by percentile and measure\n",
    "sns.displot(data=grouped, x=\"sum_of_errors\", hue=\"percentile\", kind=\"kde\", fill=True)\n",
    "plt.title(\"Density Plot of Sum of Errors by Percentile\")\n",
    "plt.show()\n"
   ]
  },
  {
   "cell_type": "code",
   "execution_count": null,
   "metadata": {},
   "outputs": [],
   "source": [
    "sns.displot(data=grouped, x=\"sum_of_errors\", hue=\"measure\", kind=\"kde\", fill=True)\n",
    "plt.title(\"Density Plot of Sum of Errors by Percentile\")\n",
    "plt.show()"
   ]
  },
  {
   "cell_type": "code",
   "execution_count": null,
   "metadata": {},
   "outputs": [],
   "source": [
    "sns.pairplot(megadf, hue=\"measure\", diag_kind=\"kde\", kind=\"scatter\")"
   ]
  }
 ],
 "metadata": {
  "kernelspec": {
   "display_name": "OSMNX",
   "language": "python",
   "name": "python3"
  },
  "language_info": {
   "codemirror_mode": {
    "name": "ipython",
    "version": 3
   },
   "file_extension": ".py",
   "mimetype": "text/x-python",
   "name": "python",
   "nbconvert_exporter": "python",
   "pygments_lexer": "ipython3"
  }
 },
 "nbformat": 4,
 "nbformat_minor": 2
}
