{
 "cells": [
  {
   "cell_type": "markdown",
   "metadata": {},
   "source": [
    "# Step 6 - Making videos of the plots\n",
    "## Project: Growing Urban Bicycle Networks"
   ]
  },
  {
   "cell_type": "markdown",
   "metadata": {},
   "source": [
    "This notebook takes the plots from 05_plot_results and creates videos out of them. Run a kernel which has opencv-python available!\n",
    "\n",
    "Contact: Michael Szell (michael.szell@gmail.com)  \n",
    "Created: 2020-09-02  \n",
    "Last modified: 2021-03-10"
   ]
  },
  {
   "cell_type": "markdown",
   "metadata": {},
   "source": [
    "## Preliminaries"
   ]
  },
  {
   "cell_type": "markdown",
   "metadata": {},
   "source": [
    "### Parameters"
   ]
  },
  {
   "cell_type": "code",
   "execution_count": null,
   "metadata": {},
   "outputs": [],
   "source": [
    "debug = False # If True, will produce plots and/or verbose output to double-check\n",
    "%run -i \"../parameters/parameters.py\""
   ]
  },
  {
   "cell_type": "markdown",
   "metadata": {},
   "source": [
    "### Setup"
   ]
  },
  {
   "cell_type": "code",
   "execution_count": null,
   "metadata": {},
   "outputs": [],
   "source": [
    "%run -i path.py\n",
    "\n",
    "import csv\n",
    "cities = {}\n",
    "with open(PATH[\"parameters\"] + 'cities.csv') as f:\n",
    "    csvreader = csv.DictReader(f, delimiter=';')\n",
    "    for row in csvreader:\n",
    "        cities[row['placeid']] = {}\n",
    "        for field in csvreader.fieldnames[1:]:\n",
    "            cities[row['placeid']][field] = row[field] \n",
    "\n",
    "import cv2\n",
    "import os\n",
    "from tqdm.notebook import tqdm\n",
    "import itertools"
   ]
  },
  {
   "cell_type": "markdown",
   "metadata": {},
   "source": [
    "### Functions"
   ]
  },
  {
   "cell_type": "code",
   "execution_count": null,
   "metadata": {},
   "outputs": [],
   "source": [
    "from shapely.geometry import Polygon\n",
    "import igraph as ig\n",
    "%run -i functions.py"
   ]
  },
  {
   "cell_type": "markdown",
   "metadata": {},
   "source": [
    "## Generate Videos"
   ]
  },
  {
   "cell_type": "markdown",
   "metadata": {},
   "source": [
    "### POI based results"
   ]
  },
  {
   "cell_type": "code",
   "execution_count": null,
   "metadata": {},
   "outputs": [],
   "source": [
    "# Run all parameter sets\n",
    "poi_source_list = [\"grid\", \"railwaystation\"]\n",
    "prune_measure_list = [\"betweenness\", \"closeness\", \"random\"]\n",
    "parsets_used = list(itertools.product(poi_source_list, prune_measure_list))\n",
    "for poi_source, prune_measure in parsets_used:\n",
    "    print(poi_source, prune_measure)\n",
    "    \n",
    "    for placeid, placeinfo in tqdm(cities.items(), desc = \"Cities\"):\n",
    "        try:\n",
    "            imgname = '_GTall_poi_' + poi_source + \"_\" + prune_measures[prune_measure]\n",
    "            generate_video(placeid, imgname)\n",
    "            imgname = '_GTabstract_poi_' + poi_source + \"_\" + prune_measures[prune_measure]\n",
    "            generate_video(placeid, imgname)\n",
    "            imgname = '_GTallcover_poi_' + poi_source + \"_\" + prune_measures[prune_measure]\n",
    "            generate_video(placeid, imgname)\n",
    "#             imgname = '_GTalloverlapbikeable_poi_' + poi_source + \"_\" + prune_measures[prune_measure]\n",
    "#             generate_video(placeid, imgname)\n",
    "#             imgname = '_GTalloverlapbiketrack_poi_' + poi_source + \"_\" + prune_measures[prune_measure]\n",
    "#             generate_video(placeid, imgname)\n",
    "        except IndexError:\n",
    "            continue\n",
    "        "
   ]
  }
 ],
 "metadata": {
  "language_info": {
   "name": "python"
  }
 },
 "nbformat": 4,
 "nbformat_minor": 2
}
