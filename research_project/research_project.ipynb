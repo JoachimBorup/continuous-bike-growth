{
 "cells": [
  {
   "cell_type": "markdown",
   "id": "e70580174f0d1cd",
   "metadata": {},
   "source": [
    "# Setup"
   ]
  },
  {
   "cell_type": "code",
   "execution_count": 56,
   "id": "initial_id",
   "metadata": {
    "ExecuteTime": {
     "end_time": "2024-11-14T11:15:07.782663Z",
     "start_time": "2024-11-14T11:15:05.906949Z"
    }
   },
   "outputs": [
    {
     "name": "stdout",
     "output_type": "stream",
     "text": [
      "Current working directory:  /Users/jaborup/Projects/continuous-bike-growth\n",
      "Loaded parameters.\n",
      "\n",
      "Loaded PATH.\n",
      "\n",
      "\n",
      "\n",
      "=== Cities ===\n",
      "{   'montreal': {   'countryid': 'can',\n",
      "                    'name': 'Montreal',\n",
      "                    'nominatimstring': 'montreal (06)'}}\n",
      "==============\n",
      "\n",
      "\n",
      "Setup finished.\n",
      "\n",
      "Loaded functions.\n",
      "\n",
      "The watermark extension is already loaded. To reload it, use:\n",
      "  %reload_ext watermark\n",
      "osgeo.gdal 3.8.5\n",
      "csv        1.0\n",
      "numpy      1.26.4\n",
      "geojson    2.5.0\n",
      "matplotlib 3.8.4\n",
      "shapely    2.0.4\n",
      "pyproj     3.6.1\n",
      "fiona      1.9.5\n",
      "networkx   3.3\n",
      "igraph     0.11.6\n",
      "osmnx      2.0.0b3\n",
      "pandas     2.2.3\n",
      "watermark  2.0.2\n",
      "geopandas  1.0.1\n",
      "Thu Nov 14 2024 \n",
      "\n",
      "CPython 3.12.7\n",
      "IPython 8.6.0\n",
      "\n",
      "compiler   : Clang 17.0.6 \n",
      "system     : Darwin\n",
      "release    : 23.6.0\n",
      "machine    : arm64\n",
      "processor  : arm\n",
      "CPU cores  : 8\n",
      "interpreter: 64bit\n",
      "Git hash   : fb1f59bcbafce3c90f905497b55f1c69c21488c3\n"
     ]
    }
   ],
   "source": [
    "from parameters.parameters import prune_quantiles, prune_measure\n",
    "\n",
    "debug = True # If True, will produce plots and/or verbose output to double-check\n",
    "\n",
    "import sys\n",
    "sys.path.append(\"..\")\n",
    "\n",
    "# Path\n",
    "print(\"Current working directory: \", sys.path[0])\n",
    "%run -i \"../parameters/parameters.py\"\n",
    "%run -i \"../src/path.py\"\n",
    "%run -i \"../src/setup.py\"\n",
    "%run -i \"../src/functions.py\"\n",
    "%run -i \"greedy_triangulation.py\"\n",
    "%run -i \"GraphSimilarity.py\"\n",
    "\n",
    "%load_ext watermark\n",
    "%watermark -n -v -m -g -iv"
   ]
  },
  {
   "cell_type": "markdown",
   "id": "1cf3a15bf0f54fd0",
   "metadata": {},
   "source": [
    "# Run the program"
   ]
  },
  {
   "cell_type": "code",
   "execution_count": 57,
   "id": "4b5966f41d05f75f",
   "metadata": {},
   "outputs": [
    {
     "data": {
      "application/vnd.jupyter.widget-view+json": {
       "model_id": "52058ddf3e834ae590ef05b90627962f",
       "version_major": 2,
       "version_minor": 0
      },
      "text/plain": [
       "Cities:   0%|          | 0/1 [00:00<?, ?it/s]"
      ]
     },
     "metadata": {},
     "output_type": "display_data"
    },
    {
     "name": "stdout",
     "output_type": "stream",
     "text": [
      "montreal: Generating networks\n"
     ]
    },
    {
     "name": "stderr",
     "output_type": "stream",
     "text": [
      "/Users/jaborup/Projects/continuous-bike-growth/src/functions.py:345: DtypeWarning: Columns (5) have mixed types. Specify dtype option on import or set low_memory=False.\n",
      "  n = pd.read_csv(p + prefix + '_nodes.csv')\n",
      "/Users/jaborup/Projects/continuous-bike-growth/src/functions.py:346: DtypeWarning: Columns (5,9,16) have mixed types. Specify dtype option on import or set low_memory=False.\n",
      "  e = pd.read_csv(p + prefix + '_edges.csv')\n"
     ]
    },
    {
     "data": {
      "application/vnd.jupyter.widget-view+json": {
       "model_id": "",
       "version_major": 2,
       "version_minor": 0
      },
      "text/plain": [
       "Greedy triangulation on 60.0% subgraph:   0%|          | 0/4 [00:00<?, ?it/s]"
      ]
     },
     "metadata": {},
     "output_type": "display_data"
    },
    {
     "name": "stdout",
     "output_type": "stream",
     "text": [
      "Vertex in GT_abstract: True\n",
      "Vertex in GT_abstract after GT: True\n",
      "All POI IDs: [31706396, 32124695, 32124745, 32663000, 116346943, 209365112, 209451593, 209493424, 213462304, 213784072, 213839168, 213962625, 215207996, 215665097, 215694709, 218225504, 218315575, 218344316, 220784679, 220785326, 220840262, 224688993, 224826175, 224843617, 225015278, 226048799, 241888446, 243075442, 245474360, 246093663, 246280405, 246282168, 246283371, 246285415, 246453410, 246456569, 246464012, 246653218, 246653275, 246659329, 246665007, 246665166, 246713243, 246713656, 246714196, 248512113, 248512751, 274284366, 276648428, 282710465, 294245158, 295078610, 295801587, 300060744, 315995923, 316169589, 323035549, 344876938, 412410174, 437715910, 437862509, 459390315, 472502195, 534470749, 537195425, 537213947, 581098365, 581118908, 595748514, 595748527, 595753065, 595756445, 596515729, 596568927, 596570617, 596571405, 596643209, 596643906, 597038571, 598409708, 604059672, 604059741, 604060255, 604060791, 604101414, 604123134, 604130580, 606287446, 606287855, 606288249, 606288272, 611533073, 615106609, 615106835, 653993473, 797776012, 867289562, 1215827364, 1258707504, 1272650785, 1630783377, 1699718519, 1700525592, 1763614949, 1764284018, 1764326051, 1765465225, 2310682415, 3892518938, 3954639327, 3997960182, 4031745354, 4143269134, 4143340374, 4330833778, 4346348710, 4404756861, 4419000449, 4483790348, 4508204608, 4625163311, 4667249874, 5225491469, 5247010703, 5248537261, 5256789617, 5273445735, 5312830365, 5412368812, 5412399376, 6657105802, 7227580539, 8257855696, 8604332294, 8917810554, 9705261764, 9761716172, 9916879128, 9920770013, 9923413713, 10961924796, 11067588667, 11160898053]\n",
      "Pruning betweenness...\n",
      "Finished pruning betweenness\n",
      "Vertex in pruned_graph: True\n",
      "Vertex in pruned_graph after GT: True\n",
      "Pruning betweenness...\n",
      "Finished pruning betweenness\n",
      "Vertex in pruned_graph after pruning: True\n",
      "Edge: 5412368812 -> 9761716172\n",
      "Edge: 215665097 -> 215694709\n",
      "Edge: 246653218 -> 11160898053\n",
      "Edge: 246653218 -> 3954639327\n",
      "Edge: 472502195 -> 3997960182\n",
      "Edge: 246283371 -> 472502195\n",
      "Edge: 220784679 -> 323035549\n",
      "Edge: 32124695 -> 215694709\n",
      "Edge: 209493424 -> 218344316\n",
      "Edge: 209493424 -> 213839168\n",
      "Vertex in GT_indices: False\n",
      "Vertex in GT: False\n",
      "Vertex in GT_abstract: True\n",
      "Vertex in GT_abstract after GT: True\n",
      "All POI IDs: [31706396, 32124695, 32124745, 32663000, 116346943, 209365112, 209451593, 209493424, 213462304, 213784072, 213839168, 213962625, 215207996, 215665097, 215694709, 218225504, 218315575, 218344316, 220784679, 220785326, 220840262, 224688993, 224826175, 224843617, 225015278, 226048799, 241888446, 243075442, 245474360, 246093663, 246280405, 246282168, 246283371, 246285415, 246453410, 246456569, 246464012, 246653218, 246653275, 246659329, 246665007, 246665166, 246713243, 246713656, 246714196, 248512113, 248512751, 274284366, 276648428, 282710465, 294245158, 295078610, 295801587, 300060744, 315995923, 316169589, 323035549, 344876938, 412410174, 437715910, 437862509, 459390315, 472502195, 534470749, 537195425, 537213947, 581098365, 581118908, 595748514, 595748527, 595753065, 595756445, 596515729, 596568927, 596570617, 596571405, 596643209, 596643906, 597038571, 598409708, 604059672, 604059741, 604060255, 604060791, 604101414, 604123134, 604130580, 606287446, 606287855, 606288249, 606288272, 611533073, 615106609, 615106835, 653993473, 797776012, 867289562, 1215827364, 1258707504, 1272650785, 1630783377, 1699718519, 1700525592, 1763614949, 1764284018, 1764326051, 1765465225, 2310682415, 3892518938, 3954639327, 3997960182, 4031745354, 4143269134, 4143340374, 4330833778, 4346348710, 4404756861, 4419000449, 4483790348, 4508204608, 4625163311, 4667249874, 5225491469, 5247010703, 5248537261, 5256789617, 5273445735, 5312830365, 5412368812, 5412399376, 6657105802, 7227580539, 8257855696, 8604332294, 8917810554, 9705261764, 9761716172, 9916879128, 9920770013, 9923413713, 10961924796, 11067588667, 11160898053]\n",
      "Pruning betweenness...\n",
      "Finished pruning betweenness\n",
      "Vertex in pruned_graph: True\n",
      "Vertex in pruned_graph after GT: True\n",
      "Pruning betweenness...\n",
      "Finished pruning betweenness\n",
      "Vertex in pruned_graph after pruning: True\n",
      "Edge: 209493424 -> 215665097\n",
      "Edge: 5412368812 -> 9761716172\n",
      "Edge: 215665097 -> 215694709\n",
      "Edge: 604060791 -> 604130580\n",
      "Edge: 246653218 -> 11160898053\n",
      "Edge: 31706396 -> 32124695\n",
      "Edge: 246653218 -> 3954639327\n",
      "Edge: 32663000 -> 1764284018\n",
      "Edge: 323035549 -> 611533073\n",
      "Edge: 472502195 -> 3997960182\n",
      "Vertex in GT_indices: False\n",
      "Vertex in GT: False\n",
      "Vertex in GT_abstract: True\n",
      "Vertex in GT_abstract after GT: True\n",
      "All POI IDs: [31706396, 32124695, 32124745, 32663000, 116346943, 209365112, 209451593, 209493424, 213462304, 213784072, 213839168, 213962625, 215207996, 215665097, 215694709, 218225504, 218315575, 218344316, 220784679, 220785326, 220840262, 224688993, 224826175, 224843617, 225015278, 226048799, 241888446, 243075442, 245474360, 246093663, 246280405, 246282168, 246283371, 246285415, 246453410, 246456569, 246464012, 246653218, 246653275, 246659329, 246665007, 246665166, 246713243, 246713656, 246714196, 248512113, 248512751, 274284366, 276648428, 282710465, 294245158, 295078610, 295801587, 300060744, 315995923, 316169589, 323035549, 344876938, 412410174, 437715910, 437862509, 459390315, 472502195, 534470749, 537195425, 537213947, 581098365, 581118908, 595748514, 595748527, 595753065, 595756445, 596515729, 596568927, 596570617, 596571405, 596643209, 596643906, 597038571, 598409708, 604059672, 604059741, 604060255, 604060791, 604101414, 604123134, 604130580, 606287446, 606287855, 606288249, 606288272, 611533073, 615106609, 615106835, 653993473, 797776012, 867289562, 1215827364, 1258707504, 1272650785, 1630783377, 1699718519, 1700525592, 1763614949, 1764284018, 1764326051, 1765465225, 2310682415, 3892518938, 3954639327, 3997960182, 4031745354, 4143269134, 4143340374, 4330833778, 4346348710, 4404756861, 4419000449, 4483790348, 4508204608, 4625163311, 4667249874, 5225491469, 5247010703, 5248537261, 5256789617, 5273445735, 5312830365, 5412368812, 5412399376, 6657105802, 7227580539, 8257855696, 8604332294, 8917810554, 9705261764, 9761716172, 9916879128, 9920770013, 9923413713, 10961924796, 11067588667, 11160898053]\n",
      "Pruning betweenness...\n",
      "Finished pruning betweenness\n",
      "Vertex in pruned_graph: True\n",
      "Vertex in pruned_graph after GT: True\n",
      "Pruning betweenness...\n",
      "Finished pruning betweenness\n",
      "Vertex in pruned_graph after pruning: True\n",
      "Edge: 209493424 -> 215665097\n",
      "Edge: 5412368812 -> 9761716172\n",
      "Edge: 534470749 -> 537195425\n",
      "Edge: 215665097 -> 215694709\n",
      "Edge: 604060791 -> 604130580\n",
      "Edge: 596643209 -> 598409708\n",
      "Edge: 246653218 -> 11160898053\n",
      "Edge: 218225504 -> 11160898053\n",
      "Edge: 31706396 -> 32124695\n",
      "Edge: 248512113 -> 248512751\n",
      "Vertex in GT_indices: False\n",
      "Vertex in GT: False\n",
      "Vertex in GT_abstract: True\n",
      "Vertex in GT_abstract after GT: True\n",
      "All POI IDs: [31706396, 32124695, 32124745, 32663000, 116346943, 209365112, 209451593, 209493424, 213462304, 213784072, 213839168, 213962625, 215207996, 215665097, 215694709, 218225504, 218315575, 218344316, 220784679, 220785326, 220840262, 224688993, 224826175, 224843617, 225015278, 226048799, 241888446, 243075442, 245474360, 246093663, 246280405, 246282168, 246283371, 246285415, 246453410, 246456569, 246464012, 246653218, 246653275, 246659329, 246665007, 246665166, 246713243, 246713656, 246714196, 248512113, 248512751, 274284366, 276648428, 282710465, 294245158, 295078610, 295801587, 300060744, 315995923, 316169589, 323035549, 344876938, 412410174, 437715910, 437862509, 459390315, 472502195, 534470749, 537195425, 537213947, 581098365, 581118908, 595748514, 595748527, 595753065, 595756445, 596515729, 596568927, 596570617, 596571405, 596643209, 596643906, 597038571, 598409708, 604059672, 604059741, 604060255, 604060791, 604101414, 604123134, 604130580, 606287446, 606287855, 606288249, 606288272, 611533073, 615106609, 615106835, 653993473, 797776012, 867289562, 1215827364, 1258707504, 1272650785, 1630783377, 1699718519, 1700525592, 1763614949, 1764284018, 1764326051, 1765465225, 2310682415, 3892518938, 3954639327, 3997960182, 4031745354, 4143269134, 4143340374, 4330833778, 4346348710, 4404756861, 4419000449, 4483790348, 4508204608, 4625163311, 4667249874, 5225491469, 5247010703, 5248537261, 5256789617, 5273445735, 5312830365, 5412368812, 5412399376, 6657105802, 7227580539, 8257855696, 8604332294, 8917810554, 9705261764, 9761716172, 9916879128, 9920770013, 9923413713, 10961924796, 11067588667, 11160898053]\n",
      "Pruning betweenness...\n",
      "Finished pruning betweenness\n",
      "Vertex in pruned_graph: True\n"
     ]
    },
    {
     "name": "stdout",
     "output_type": "stream",
     "text": [
      "Vertex in pruned_graph after GT: True\n",
      "Pruning betweenness...\n",
      "Finished pruning betweenness\n",
      "Vertex in pruned_graph after pruning: True\n",
      "Edge: 209493424 -> 215665097\n",
      "Edge: 5412368812 -> 9761716172\n",
      "Edge: 534470749 -> 537195425\n",
      "Edge: 215665097 -> 215694709\n",
      "Edge: 604060791 -> 604130580\n",
      "Edge: 596643209 -> 598409708\n",
      "Edge: 246653218 -> 11160898053\n",
      "Edge: 218225504 -> 11160898053\n",
      "Edge: 31706396 -> 32124695\n",
      "Edge: 248512113 -> 248512751\n",
      "Vertex in GT_indices: False\n",
      "Vertex in GT: False\n"
     ]
    },
    {
     "data": {
      "application/vnd.jupyter.widget-view+json": {
       "model_id": "",
       "version_major": 2,
       "version_minor": 0
      },
      "text/plain": [
       "Greedy triangulation:   0%|          | 0/4 [00:00<?, ?it/s]"
      ]
     },
     "metadata": {},
     "output_type": "display_data"
    },
    {
     "name": "stdout",
     "output_type": "stream",
     "text": [
      "Pruning betweenness...\n",
      "Finished pruning betweenness\n",
      "Pruning betweenness...\n",
      "Finished pruning betweenness\n",
      "Pruning betweenness...\n",
      "Finished pruning betweenness\n",
      "Pruning betweenness...\n",
      "Finished pruning betweenness\n",
      "Number of vertices in research project: 9645\n",
      "Number of vertices in Szell's project: 12687\n",
      "Prune quantile: 0.25\n",
      "Graph 1 contains 4483790348: False\n",
      "Graph 2 contains 4483790348: False\n",
      "Expecting 10153.0 iterations\n",
      "Iteration 0\n",
      "v: 653993473, w: 11160898053\n",
      "v: 653993473, w: 4483790348\n"
     ]
    },
    {
     "ename": "ValueError",
     "evalue": "no such vertex",
     "output_type": "error",
     "traceback": [
      "\u001b[0;31m---------------------------------------------------------------------------\u001b[0m",
      "\u001b[0;31mValueError\u001b[0m                                Traceback (most recent call last)",
      "Cell \u001b[0;32mIn [57], line 58\u001b[0m\n\u001b[1;32m     55\u001b[0m \u001b[38;5;28mprint\u001b[39m(\u001b[38;5;124mf\u001b[39m\u001b[38;5;124m\"\u001b[39m\u001b[38;5;124mNumber of vertices in Szell\u001b[39m\u001b[38;5;124m'\u001b[39m\u001b[38;5;124ms project: \u001b[39m\u001b[38;5;132;01m{\u001b[39;00mszell_gt\u001b[38;5;241m.\u001b[39mvcount()\u001b[38;5;132;01m}\u001b[39;00m\u001b[38;5;124m\"\u001b[39m)\n\u001b[1;32m     57\u001b[0m \u001b[38;5;28mprint\u001b[39m(\u001b[38;5;124mf\u001b[39m\u001b[38;5;124m\"\u001b[39m\u001b[38;5;124mPrune quantile: \u001b[39m\u001b[38;5;132;01m{\u001b[39;00mprune_quantile\u001b[38;5;132;01m}\u001b[39;00m\u001b[38;5;124m\"\u001b[39m)\n\u001b[0;32m---> 58\u001b[0m error, subgraph_disconnected_points, graph_disconnected_points \u001b[38;5;241m=\u001b[39m \u001b[43msum_of_errors_pois\u001b[49m\u001b[43m(\u001b[49m\u001b[43mgt\u001b[49m\u001b[43m,\u001b[49m\u001b[43m \u001b[49m\u001b[43mszell_gt\u001b[49m\u001b[43m,\u001b[49m\u001b[43m \u001b[49m\u001b[43mnnids\u001b[49m\u001b[43m)\u001b[49m\n\u001b[1;32m     59\u001b[0m \u001b[38;5;28mprint\u001b[39m(\u001b[38;5;124m\"\u001b[39m\u001b[38;5;124mError: \u001b[39m\u001b[38;5;124m\"\u001b[39m, error)\n\u001b[1;32m     60\u001b[0m \u001b[38;5;28mprint\u001b[39m(\u001b[38;5;124m\"\u001b[39m\u001b[38;5;124mDisconnected points in subgraph: \u001b[39m\u001b[38;5;124m\"\u001b[39m, subgraph_disconnected_points)\n",
      "File \u001b[0;32m~/Projects/continuous-bike-growth/research_project/GraphSimilarity.py:106\u001b[0m, in \u001b[0;36msum_of_errors_pois\u001b[0;34m(graph1, graph2, pois)\u001b[0m\n\u001b[1;32m    103\u001b[0m iterations \u001b[38;5;241m+\u001b[39m\u001b[38;5;241m=\u001b[39m \u001b[38;5;241m1\u001b[39m\n\u001b[1;32m    105\u001b[0m \u001b[38;5;28mprint\u001b[39m(\u001b[38;5;124mf\u001b[39m\u001b[38;5;124m'\u001b[39m\u001b[38;5;124mv: \u001b[39m\u001b[38;5;132;01m{\u001b[39;00mv\u001b[38;5;132;01m}\u001b[39;00m\u001b[38;5;124m, w: \u001b[39m\u001b[38;5;132;01m{\u001b[39;00mw\u001b[38;5;132;01m}\u001b[39;00m\u001b[38;5;124m'\u001b[39m)\n\u001b[0;32m--> 106\u001b[0m shortest_path_g1_length \u001b[38;5;241m=\u001b[39m graph1\u001b[38;5;241m.\u001b[39mdistances(graph1\u001b[38;5;241m.\u001b[39mvs\u001b[38;5;241m.\u001b[39mfind(\u001b[38;5;28mid\u001b[39m\u001b[38;5;241m=\u001b[39mv)\u001b[38;5;241m.\u001b[39mindex, \u001b[43mgraph1\u001b[49m\u001b[38;5;241;43m.\u001b[39;49m\u001b[43mvs\u001b[49m\u001b[38;5;241;43m.\u001b[39;49m\u001b[43mfind\u001b[49m\u001b[43m(\u001b[49m\u001b[38;5;28;43mid\u001b[39;49m\u001b[38;5;241;43m=\u001b[39;49m\u001b[43mw\u001b[49m\u001b[43m)\u001b[49m\u001b[38;5;241m.\u001b[39mindex, weights\u001b[38;5;241m=\u001b[39m\u001b[38;5;124m'\u001b[39m\u001b[38;5;124mweight\u001b[39m\u001b[38;5;124m'\u001b[39m)\n\u001b[1;32m    107\u001b[0m \u001b[38;5;66;03m#print(f\"Shortest path length in g1 (total Euclidean distance): {shortest_path_g1_length[0]}\")\u001b[39;00m\n\u001b[1;32m    108\u001b[0m shortest_path_g2_length \u001b[38;5;241m=\u001b[39m graph2\u001b[38;5;241m.\u001b[39mdistances(graph2\u001b[38;5;241m.\u001b[39mvs\u001b[38;5;241m.\u001b[39mfind(\u001b[38;5;28mid\u001b[39m\u001b[38;5;241m=\u001b[39mv)\u001b[38;5;241m.\u001b[39mindex, graph2\u001b[38;5;241m.\u001b[39mvs\u001b[38;5;241m.\u001b[39mfind(\u001b[38;5;28mid\u001b[39m\u001b[38;5;241m=\u001b[39mw)\u001b[38;5;241m.\u001b[39mindex, weights\u001b[38;5;241m=\u001b[39m\u001b[38;5;124m'\u001b[39m\u001b[38;5;124mweight\u001b[39m\u001b[38;5;124m'\u001b[39m)\n",
      "File \u001b[0;32m~/anaconda3/envs/OSMNX/lib/python3.12/site-packages/igraph/seq.py:130\u001b[0m, in \u001b[0;36mVertexSeq.find\u001b[0;34m(self, *args, **kwds)\u001b[0m\n\u001b[1;32m    128\u001b[0m \u001b[38;5;28;01mif\u001b[39;00m vs:\n\u001b[1;32m    129\u001b[0m     \u001b[38;5;28;01mreturn\u001b[39;00m vs[\u001b[38;5;241m0\u001b[39m]\n\u001b[0;32m--> 130\u001b[0m \u001b[38;5;28;01mraise\u001b[39;00m \u001b[38;5;167;01mValueError\u001b[39;00m(\u001b[38;5;124m\"\u001b[39m\u001b[38;5;124mno such vertex\u001b[39m\u001b[38;5;124m\"\u001b[39m)\n",
      "\u001b[0;31mValueError\u001b[0m: no such vertex"
     ]
    }
   ],
   "source": [
    "for placeid, placeinfo in tqdm(cities.items(), desc=\"Cities\"):\n",
    "    print(placeid + \": Generating networks\")\n",
    "\n",
    "    # Load networks\n",
    "    G_carall = csv_to_ig(PATH[\"data\"] + placeid + \"/\", placeid, 'carall')\n",
    "\n",
    "    # Load POIs\n",
    "    with open(PATH[\"data\"] + placeid + \"/\" + placeid + '_poi_' + poi_source + '_nnidscarall.csv') as f:\n",
    "        nnids = [int(line.rstrip()) for line in f]\n",
    "\n",
    "    prune_quantiles = [0.25, 0.5, 0.75, 1]\n",
    "\n",
    "    # Generation\n",
    "    gts, abstract_gts = greedy_triangulation_in_steps(\n",
    "        graph=G_carall,\n",
    "        pois=nnids,\n",
    "        subgraph_percentage=0.6,\n",
    "        prune_quantiles=prune_quantiles,\n",
    "        prune_measure=\"betweenness\",\n",
    "    )\n",
    "    #\n",
    "    # filename = placeid + '_poi_' + poi_source + \"_\" + prune_measure\n",
    "    # result_file = open(PATH[\"results\"] + placeid + \"/\" + filename + \".pickle\", 'rb')\n",
    "    # res = pickle.load(result_file)\n",
    "    # szell_gts = res[\"GTs\"]\n",
    "\n",
    "    # results = {\n",
    "    #     \"placeid\": placeid,\n",
    "    #     \"prune_measure\": prune_measure,\n",
    "    #     \"poi_source\": poi_source,\n",
    "    #     \"prune_quantiles\": prune_quantiles,\n",
    "    #     \"GTs\": gts,\n",
    "    #     \"GT_abstracts\": abstract_gts,\n",
    "    #     # \"MST\": MST,\n",
    "    #     # \"MST_abstract\": MST_abstract\n",
    "    # }\n",
    "    # write_result(results, \"pickle\", f'{placeid}_research', poi_source, prune_measure, \".pickle\")\n",
    "\n",
    "    (GTs, GT_abstracts) = _greedy_triangulation_routing(G_carall, nnids, prune_quantiles, \"betweenness\")\n",
    "\n",
    "    # results = {\n",
    "    #     \"placeid\": placeid,\n",
    "    #     \"prune_measure\": prune_measure,\n",
    "    #     \"poi_source\": poi_source,\n",
    "    #     \"prune_quantiles\": prune_quantiles,\n",
    "    #     \"GTs\": GTs,\n",
    "    #     \"GT_abstracts\": GT_abstracts,\n",
    "    #     # \"MST\": MST,\n",
    "    #     # \"MST_abstract\": MST_abstract\n",
    "    # }\n",
    "    # write_result(results, \"pickle\", f'{placeid}_szell', poi_source, prune_measure, \".pickle\")\n",
    "\n",
    "    for prune_quantile, gt, szell_gt in zip(prune_quantiles, gts, GTs):\n",
    "        print(f'Number of vertices in research project: {gt.vcount()}')\n",
    "        print(f\"Number of vertices in Szell's project: {szell_gt.vcount()}\")\n",
    "\n",
    "        print(f\"Prune quantile: {prune_quantile}\")\n",
    "        error, subgraph_disconnected_points, graph_disconnected_points = sum_of_errors_pois(gt, szell_gt, nnids)\n",
    "        print(\"Error: \", error)\n",
    "        print(\"Disconnected points in subgraph: \", subgraph_disconnected_points)"
   ]
  },
  {
   "cell_type": "code",
   "execution_count": null,
   "id": "aacfe684b23f890",
   "metadata": {},
   "outputs": [],
   "source": [
    "for placeid, placeinfo in tqdm(cities.items(), desc=\"Cities\"):\n",
    "    result_file = open(PATH[\"results\"] + placeid + \"/\" + filename + \".pickle\", 'rb')\n",
    "    res = pickle.load(result_file)\n",
    "    szell_gts = res[\"GTs\"]"
   ]
  },
  {
   "cell_type": "code",
   "execution_count": null,
   "id": "f01360a85c9f2c30",
   "metadata": {},
   "outputs": [],
   "source": []
  }
 ],
 "metadata": {
  "kernelspec": {
   "display_name": "Python 3 (ipykernel)",
   "language": "python",
   "name": "python3"
  },
  "language_info": {
   "codemirror_mode": {
    "name": "ipython",
    "version": 3
   },
   "file_extension": ".py",
   "mimetype": "text/x-python",
   "name": "python",
   "nbconvert_exporter": "python",
   "pygments_lexer": "ipython3",
   "version": "3.12.7"
  }
 },
 "nbformat": 4,
 "nbformat_minor": 5
}
