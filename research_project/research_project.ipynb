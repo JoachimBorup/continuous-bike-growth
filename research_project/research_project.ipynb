{
 "cells": [
  {
   "cell_type": "markdown",
   "id": "e70580174f0d1cd",
   "metadata": {},
   "source": [
    "# Setup"
   ]
  },
  {
   "cell_type": "code",
   "execution_count": 2,
   "id": "initial_id",
   "metadata": {
    "ExecuteTime": {
     "end_time": "2024-12-08T23:39:53.422653Z",
     "start_time": "2024-12-08T23:39:51.109971Z"
    }
   },
   "outputs": [
    {
     "name": "stdout",
     "output_type": "stream",
     "text": [
      "Current working directory:  /Users/jaborup/Projects/continuous-bike-growth\n",
      "Loaded parameters.\n",
      "\n",
      "Loaded PATH.\n",
      "\n",
      "\n",
      "\n",
      "=== Cities ===\n",
      "{   'copenhagen': {   'countryid': 'dnk',\n",
      "                      'name': 'Copenhagen',\n",
      "                      'nominatimstring': ''}}\n",
      "==============\n",
      "\n",
      "\n",
      "Setup finished.\n",
      "\n",
      "Loaded functions.\n",
      "\n",
      "The watermark extension is already loaded. To reload it, use:\n",
      "  %reload_ext watermark\n",
      "igraph     0.11.6\n",
      "networkx   3.3\n",
      "osmnx      2.0.0b3\n",
      "numpy      1.26.4\n",
      "geopandas  1.0.1\n",
      "fiona      1.9.5\n",
      "osgeo.gdal 3.8.5\n",
      "pyproj     3.6.1\n",
      "matplotlib 3.8.4\n",
      "csv        1.0\n",
      "watermark  2.0.2\n",
      "geojson    2.5.0\n",
      "shapely    2.0.4\n",
      "pandas     2.2.3\n",
      "Mon Dec 09 2024 \n",
      "\n",
      "CPython 3.12.7\n",
      "IPython 8.6.0\n",
      "\n",
      "compiler   : Clang 17.0.6 \n",
      "system     : Darwin\n",
      "release    : 24.1.0\n",
      "machine    : arm64\n",
      "processor  : arm\n",
      "CPU cores  : 8\n",
      "interpreter: 64bit\n",
      "Git hash   : 6c23fcc36b1d5a6204f922840d45fbfec2bdb844\n"
     ]
    }
   ],
   "source": [
    "import os\n",
    "import sys\n",
    "import random\n",
    "sys.path.append(\"..\")\n",
    "debug = True # If True, will produce plots and/or verbose output to double-check\n",
    "rerun_existing = False\n",
    "\n",
    "# Path\n",
    "print(\"Current working directory: \", sys.path[0])\n",
    "%run -i \"../parameters/parameters.py\"\n",
    "%run -i \"../src/path.py\"\n",
    "%run -i \"../src/setup.py\"\n",
    "%run -i \"../src/functions.py\"\n",
    "%run -i \"greedy_triangulation.py\"\n",
    "%run -i \"graph_similarity.py\"\n",
    "%run -i \"write_results_percentages.py\"\n",
    "%run -i \"analyze_poi_based_results.py\"\n",
    "%run -i \"generate_network_plots.py\"\n",
    "\n",
    "%load_ext watermark\n",
    "%watermark -n -v -m -g -iv"
   ]
  },
  {
   "cell_type": "code",
   "execution_count": 3,
   "id": "96db9e6b",
   "metadata": {},
   "outputs": [],
   "source": [
    "city = \"copenhagen\"\n",
    "iterations = 100\n",
    "\n",
    "prune_quantiles = [0.25, 0.5, 0.75, 1]\n",
    "subgraph_percentages_tests = [\n",
    "    [0.6, 0.4],\n",
    "    [0.25, 0.25, 0.25, 0.25],\n",
    "    [0.75, 0.25],\n",
    "    [0.25, 0.75],\n",
    "    [0.33, 0.33, 0.34],\n",
    "]\n",
    "\n",
    "prune_measures = [\"betweenness\", \"closeness\", \"random\"]"
   ]
  },
  {
   "cell_type": "markdown",
   "id": "1cf3a15bf0f54fd0",
   "metadata": {},
   "source": [
    "# Run the program"
   ]
  },
  {
   "metadata": {},
   "cell_type": "code",
   "outputs": [],
   "execution_count": null,
   "source": [
    "placeid = city\n",
    "print(placeid + \": Generating graph and POIs\")\n",
    "\n",
    "G_carall = csv_to_ig(PATH[\"data\"] + placeid + \"/\", placeid, 'carall')\n",
    "with open(PATH[\"data\"] + placeid + \"/\" + placeid + '_poi_' + poi_source + '_nnidscarall.csv') as f:\n",
    "    nnids = [int(line.rstrip()) for line in f]\n",
    "\n",
    "for prune_measure in prune_measures:\n",
    "    print(f\"Prune measure: {prune_measure}\")\n",
    "\n",
    "    (GTs, GT_abstracts) = _greedy_triangulation_routing(G_carall, nnids, prune_quantiles, prune_measure)\n",
    "    (MST, MST_abstract) = mst_routing(G_carall, nnids)\n",
    "\n",
    "    # Feed the number of edges added for each prune quantile to our subgraph generation\n",
    "    # to ensure that the same number of edges are added in our own method\n",
    "    number_of_edges_to_add = list(map(lambda g: g.ecount(), GT_abstracts))\n",
    "\n",
    "    for subgraph_percentages in subgraph_percentages_tests:\n",
    "        subgraph_percentage_string = '_'.join(map(str, subgraph_percentages))\n",
    "        file_name = f\"{placeid}_{prune_measure}_{subgraph_percentage_string}.csv\"\n",
    "        print(f\"Writing data to {file_name}\")\n",
    "        dir = \"csv_data/\"\n",
    "        path = os.path.join(dir, file_name)\n",
    "        with open(path, 'w') as f:\n",
    "            writer = csv.writer(f)\n",
    "            writer.writerow([\n",
    "                \"sum_of_errors\",\n",
    "                \"continuous_vertices\",\n",
    "                \"bikengrowth_vertices\",\n",
    "                \"continuous_disconnected_pairs\",\n",
    "                \"bikengrowth_disconnected_pairs\",\n",
    "                \"prune_quantile\",\n",
    "                \"continuous_abstract_edges\",\n",
    "                \"bikengrowth_abstract_edges\",\n",
    "            ])\n",
    "\n",
    "            for i in tqdm(range(iterations), desc=\"Iterations\", leave=False):\n",
    "                if prune_measure == \"random\":\n",
    "                    (GTs, GT_abstracts) = _greedy_triangulation_routing(G_carall, nnids, prune_quantiles, prune_measure)\n",
    "                    number_of_edges_to_add = list(map(lambda g: g.ecount(), GT_abstracts))\n",
    "\n",
    "                gts, abstract_gts = greedy_triangulation_in_steps(\n",
    "                    G_carall, nnids, subgraph_percentages, number_of_edges_to_add, prune_measure\n",
    "                )\n",
    "\n",
    "                for prune_quantile, gt, szell_gt, abstract_gt, szell_abstract_gt in zip(prune_quantiles, gts, GTs, abstract_gts, GT_abstracts):\n",
    "                    error, szell_disconnected_points, our_disconnected_points = sum_of_errors_pois(szell_gt, gt, nnids)\n",
    "                    writer.writerow([error, gt.vcount(), szell_gt.vcount(), our_disconnected_points, szell_disconnected_points, prune_quantile, abstract_gt.ecount(), szell_abstract_gt.ecount()])\n",
    "\n",
    "                results = {\"placeid\": placeid, \"prune_measure\": prune_measure, \"poi_source\": poi_source, \"prune_quantiles\": prune_quantiles, \"GTs\": gts, \"GT_abstracts\": abstract_gts, \"MST\": MST, \"MST_abstract\": MST_abstract}\n",
    "                write_result_with_percentages(res=results, mode=\"pickle\", placeid=placeid, iteration=str(i), subgraph_percentage=subgraph_percentage_string, poi_source=poi_source, prune_measure=prune_measure, suffix=\".pickle\")"
   ],
   "id": "834c5b8aeb5b3068"
  },
  {
   "metadata": {},
   "cell_type": "code",
   "outputs": [],
   "execution_count": null,
   "source": [
    "string_list_subgraph_percentage = []\n",
    "for subgraph_percentage in subgraph_percentages_tests:\n",
    "    string_list_subgraph_percentage.append('_'.join(map(str, subgraph_percentage)))"
   ],
   "id": "5bace0f5a892672c"
  },
  {
   "cell_type": "code",
   "execution_count": null,
   "id": "7f542b18",
   "metadata": {},
   "outputs": [],
   "source": [
    "# Analyze results\n",
    "analyze_existing_infrastructure([placeid])\n",
    "\n",
    "analyze_poi_base_results_iterations(placeid=placeid, subgraphs_percentages=string_list_subgraph_percentage, iterations=iterations)"
   ]
  },
  {
   "cell_type": "code",
   "execution_count": null,
   "id": "4963cbfe",
   "metadata": {},
   "outputs": [],
   "source": [
    "#generate_plots\n",
    "existing_network_plot(placeid=placeid, prune_measures=prune_measures)"
   ]
  },
  {
   "cell_type": "code",
   "execution_count": null,
   "id": "7aec4a24",
   "metadata": {},
   "outputs": [],
   "source": [
    "subgraph_percentages_with_iterations_plot(placeid=placeid, pms=prune_measures, subgraphs_percentages=string_list_subgraph_percentage, iterations=iterations)"
   ]
  }
 ],
 "metadata": {
  "kernelspec": {
   "display_name": "OSMNX",
   "language": "python",
   "name": "osmnx"
  },
  "language_info": {
   "codemirror_mode": {
    "name": "ipython",
    "version": 3
   },
   "file_extension": ".py",
   "mimetype": "text/x-python",
   "name": "python",
   "nbconvert_exporter": "python",
   "pygments_lexer": "ipython3",
   "version": "3.12.7"
  }
 },
 "nbformat": 4,
 "nbformat_minor": 5
}
