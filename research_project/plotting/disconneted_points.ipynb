{
 "cells": [
  {
   "cell_type": "code",
   "execution_count": null,
   "metadata": {},
   "outputs": [],
   "source": [
    "import pandas as pd\n",
    "import numpy as np\n",
    "import matplotlib.pyplot as plt\n",
    "import seaborn as sns\n",
    "import os as os"
   ]
  },
  {
   "cell_type": "code",
   "execution_count": null,
   "metadata": {},
   "outputs": [],
   "source": [
    "file_names = []\n",
    "source_folder = 'graph_data'\n",
    "for file_name in os.listdir(source_folder):\n",
    "    if file_name.endswith('.csv'):\n",
    "        file_names.append(file_name)\n"
   ]
  },
  {
   "cell_type": "code",
   "execution_count": null,
   "metadata": {},
   "outputs": [],
   "source": [
    "def erros_vs_discon_points(file_name, name):\n",
    "    df = pd.read_csv(source_folder +\"/\"+ file_name)\n",
    "# Sort data by sum_of_errors in descending order\n",
    "    df_sorted = df.sort_values(by=\"sum_of_errors\", ascending=False).reset_index(drop=True)\n",
    "\n",
    "    # Create the figure and primary axis\n",
    "    fig, ax1 = plt.subplots(figsize=(12, 6))\n",
    "\n",
    "    # Plot the histogram of sum_of_errors on the primary y-axis\n",
    "    sns.histplot(df_sorted[\"sum_of_errors\"], bins=10, color=\"gray\", alpha=0.5, ax=ax1, label=\"Histogram of Errors\")\n",
    "    ax1.set_xlabel(\"Sum of Errors (Sorted Highest to Lowest)\")\n",
    "    ax1.set_ylabel(\"Frequency of Errors\", color=\"gray\")\n",
    "    ax1.tick_params(axis=\"y\", labelcolor=\"gray\")\n",
    "\n",
    "    # Create a secondary y-axis for disconnected points\n",
    "    ax2 = ax1.twinx()\n",
    "    ax2.plot(df_sorted[\"sum_of_errors\"], df_sorted[\"continuous_disconnected_points\"], marker=\"o\", label=\"Continuous Disconnected Points\", color=\"blue\")\n",
    "    ax2.set_ylabel(\"Disconnected Points\", color=\"black\")\n",
    "    ax2.tick_params(axis=\"y\", labelcolor=\"black\")\n",
    "\n",
    "    # Combine legends\n",
    "    lines1, labels1 = ax1.get_legend_handles_labels()\n",
    "    lines2, labels2 = ax2.get_legend_handles_labels()\n",
    "    ax2.legend(lines1 + lines2, labels1 + labels2, loc=\"upper left\")\n",
    "\n",
    "    # Add a title and grid\n",
    "    plt.title(\"Disconnected Points vs. Histogram of Sum of Errors with \" + name)    \n",
    "    plt.grid(axis=\"y\", linestyle=\"--\", alpha=0.5)\n",
    "\n",
    "    # Show the plot\n",
    "    plt.tight_layout()\n",
    "    plt.show() "
   ]
  },
  {
   "cell_type": "code",
   "execution_count": null,
   "metadata": {},
   "outputs": [],
   "source": [
    "for f in file_names:\n",
    "    #do_everything(f, f.split(\".\")[0])\n",
    "    erros_vs_discon_points(f, f.split(\".\")[0])"
   ]
  },
  {
   "cell_type": "code",
   "execution_count": null,
   "metadata": {},
   "outputs": [],
   "source": [
    "# new way\n",
    "\n",
    "\n",
    "# Replace with the path to your CSV file\n",
    "def scatterplot(file_path, name):\n",
    "    df = pd.read_csv(file_path)\n",
    "\n",
    "    # Scatter plot with regression line for continuous_disconnected_points vs. sum_of_errors\n",
    "    plt.figure(figsize=(12, 6))\n",
    "    sns.regplot(x=\"sum_of_errors\", y=\"continuous_disconnected_points\", data=df, scatter_kws={'color':'blue'}, line_kws={'color':'red'})\n",
    "    plt.xlabel(\"Sum of Errors\")\n",
    "    plt.ylabel(\"Continuous Disconnected Points\")\n",
    "    plt.title(\"Sum of Errors vs. Continuous Disconnected Points with \" + name)\n",
    "    plt.show()\n",
    "\n",
    "for f in file_names:\n",
    "    scatterplot(source_folder +\"/\"+ f, f.split(\".\")[0])"
   ]
  },
  {
   "cell_type": "code",
   "execution_count": null,
   "metadata": {},
   "outputs": [],
   "source": [
    "\n",
    "\n",
    "def heatmap(file_path, name):\n",
    "    df = pd.read_csv(file_path)\n",
    "\n",
    "    # Calculate the correlation matrix\n",
    "    corr_matrix = df.corr()\n",
    "\n",
    "    # Plot the heatmap\n",
    "    plt.figure(figsize=(10, 6))\n",
    "    sns.heatmap(corr_matrix, annot=True, cmap=\"coolwarm\", fmt=\".2f\", linewidths=0.5)\n",
    "    plt.title(\"Correlation Heatmap of Variables with \" + name)\n",
    "    plt.show()\n",
    "\n",
    "for f in file_names:\n",
    "    heatmap(source_folder +\"/\"+ f, f.split(\".\")[0])"
   ]
  }
 ],
 "metadata": {
  "kernelspec": {
   "display_name": "OSMNX",
   "language": "python",
   "name": "python3"
  },
  "language_info": {
   "codemirror_mode": {
    "name": "ipython",
    "version": 3
   },
   "file_extension": ".py",
   "mimetype": "text/x-python",
   "name": "python",
   "nbconvert_exporter": "python",
   "pygments_lexer": "ipython3"
  }
 },
 "nbformat": 4,
 "nbformat_minor": 2
}
