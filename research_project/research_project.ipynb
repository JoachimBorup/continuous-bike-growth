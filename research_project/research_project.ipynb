{
 "cells": [
  {
   "cell_type": "markdown",
   "id": "e70580174f0d1cd",
   "metadata": {},
   "source": [
    "# Setup"
   ]
  },
  {
   "cell_type": "code",
   "execution_count": 68,
   "id": "initial_id",
   "metadata": {
    "ExecuteTime": {
     "end_time": "2024-11-14T11:15:07.782663Z",
     "start_time": "2024-11-14T11:15:05.906949Z"
    }
   },
   "outputs": [
    {
     "name": "stdout",
     "output_type": "stream",
     "text": [
      "Current working directory:  /Users/jaborup/Projects/continuous-bike-growth\n",
      "Loaded parameters.\n",
      "\n",
      "Loaded PATH.\n",
      "\n",
      "\n",
      "\n",
      "=== Cities ===\n",
      "{   'montreal': {   'countryid': 'can',\n",
      "                    'name': 'Montreal',\n",
      "                    'nominatimstring': 'montreal (06)'}}\n",
      "==============\n",
      "\n",
      "\n",
      "Setup finished.\n",
      "\n",
      "Loaded functions.\n",
      "\n",
      "The watermark extension is already loaded. To reload it, use:\n",
      "  %reload_ext watermark\n",
      "osgeo.gdal 3.8.5\n",
      "csv        1.0\n",
      "numpy      1.26.4\n",
      "geojson    2.5.0\n",
      "matplotlib 3.8.4\n",
      "shapely    2.0.4\n",
      "pyproj     3.6.1\n",
      "fiona      1.9.5\n",
      "networkx   3.3\n",
      "igraph     0.11.6\n",
      "osmnx      2.0.0b3\n",
      "pandas     2.2.3\n",
      "watermark  2.0.2\n",
      "geopandas  1.0.1\n",
      "Thu Nov 14 2024 \n",
      "\n",
      "CPython 3.12.7\n",
      "IPython 8.6.0\n",
      "\n",
      "compiler   : Clang 17.0.6 \n",
      "system     : Darwin\n",
      "release    : 23.6.0\n",
      "machine    : arm64\n",
      "processor  : arm\n",
      "CPU cores  : 8\n",
      "interpreter: 64bit\n",
      "Git hash   : daa12881e93ecf1f8b250acd5860d9969c491175\n"
     ]
    }
   ],
   "source": [
    "from parameters.parameters import prune_quantiles, prune_measure\n",
    "\n",
    "debug = True # If True, will produce plots and/or verbose output to double-check\n",
    "\n",
    "import sys\n",
    "sys.path.append(\"..\")\n",
    "\n",
    "# Path\n",
    "print(\"Current working directory: \", sys.path[0])\n",
    "%run -i \"../parameters/parameters.py\"\n",
    "%run -i \"../src/path.py\"\n",
    "%run -i \"../src/setup.py\"\n",
    "%run -i \"../src/functions.py\"\n",
    "%run -i \"greedy_triangulation.py\"\n",
    "%run -i \"GraphSimilarity.py\"\n",
    "\n",
    "%load_ext watermark\n",
    "%watermark -n -v -m -g -iv"
   ]
  },
  {
   "cell_type": "markdown",
   "id": "1cf3a15bf0f54fd0",
   "metadata": {},
   "source": [
    "# Run the program"
   ]
  },
  {
   "cell_type": "code",
   "execution_count": 69,
   "id": "4b5966f41d05f75f",
   "metadata": {
    "ExecuteTime": {
     "end_time": "2024-11-14T13:20:44.187281Z",
     "start_time": "2024-11-14T13:20:44.107887Z"
    }
   },
   "outputs": [
    {
     "data": {
      "application/vnd.jupyter.widget-view+json": {
       "model_id": "91de172267194ba194ebe69990accc43",
       "version_major": 2,
       "version_minor": 0
      },
      "text/plain": [
       "Cities:   0%|          | 0/1 [00:00<?, ?it/s]"
      ]
     },
     "metadata": {},
     "output_type": "display_data"
    },
    {
     "name": "stdout",
     "output_type": "stream",
     "text": [
      "montreal: Generating networks\n"
     ]
    },
    {
     "name": "stderr",
     "output_type": "stream",
     "text": [
      "/Users/jaborup/Projects/continuous-bike-growth/src/functions.py:345: DtypeWarning: Columns (5) have mixed types. Specify dtype option on import or set low_memory=False.\n",
      "  n = pd.read_csv(p + prefix + '_nodes.csv')\n",
      "/Users/jaborup/Projects/continuous-bike-growth/src/functions.py:346: DtypeWarning: Columns (5,9,16) have mixed types. Specify dtype option on import or set low_memory=False.\n",
      "  e = pd.read_csv(p + prefix + '_edges.csv')\n"
     ]
    },
    {
     "data": {
      "application/vnd.jupyter.widget-view+json": {
       "model_id": "",
       "version_major": 2,
       "version_minor": 0
      },
      "text/plain": [
       "Greedy triangulation on 60.0% subgraph:   0%|          | 0/1 [00:00<?, ?it/s]"
      ]
     },
     "metadata": {},
     "output_type": "display_data"
    },
    {
     "data": {
      "application/vnd.jupyter.widget-view+json": {
       "model_id": "",
       "version_major": 2,
       "version_minor": 0
      },
      "text/plain": [
       "Greedy triangulation:   0%|          | 0/1 [00:00<?, ?it/s]"
      ]
     },
     "metadata": {},
     "output_type": "display_data"
    },
    {
     "name": "stdout",
     "output_type": "stream",
     "text": [
      "Number of vertices in research project: 17467\n",
      "Number of vertices in Szell's project: 21466\n",
      "Prune quantile: 0.5\n",
      "Iteration 0/10153.0\n",
      "Iteration 250/10153.0\n",
      "Iteration 500/10153.0\n",
      "Iteration 750/10153.0\n",
      "Iteration 1000/10153.0\n",
      "Iteration 1250/10153.0\n",
      "Iteration 1500/10153.0\n",
      "Iteration 1750/10153.0\n",
      "Iteration 2000/10153.0\n",
      "Iteration 2250/10153.0\n",
      "Iteration 2500/10153.0\n",
      "Iteration 2750/10153.0\n",
      "Iteration 3000/10153.0\n",
      "Iteration 3250/10153.0\n",
      "Iteration 3500/10153.0\n",
      "Iteration 3750/10153.0\n",
      "Iteration 4000/10153.0\n",
      "Iteration 4250/10153.0\n",
      "Iteration 4500/10153.0\n",
      "Iteration 4750/10153.0\n",
      "Iteration 5000/10153.0\n",
      "Iteration 5250/10153.0\n",
      "Iteration 5500/10153.0\n",
      "Iteration 5750/10153.0\n",
      "Iteration 6000/10153.0\n",
      "Iteration 6250/10153.0\n",
      "Iteration 6500/10153.0\n",
      "Iteration 6750/10153.0\n",
      "Iteration 7000/10153.0\n",
      "Iteration 7250/10153.0\n",
      "Iteration 7500/10153.0\n",
      "Iteration 7750/10153.0\n",
      "Iteration 8000/10153.0\n",
      "Iteration 8250/10153.0\n",
      "Iteration 8500/10153.0\n",
      "Iteration 8750/10153.0\n",
      "Iteration 9000/10153.0\n",
      "Iteration 9250/10153.0\n",
      "Iteration 9500/10153.0\n",
      "Iteration 9750/10153.0\n",
      "Iteration 10000/10153.0\n",
      "Error:  -417261.5475181048\n",
      "Disconnected points in our graph:  6667\n",
      "Disconnected points in Szell's graph:  1768\n"
     ]
    }
   ],
   "source": [
    "for placeid, placeinfo in tqdm(cities.items(), desc=\"Cities\"):\n",
    "    print(placeid + \": Generating networks\")\n",
    "\n",
    "    # Load networks\n",
    "    G_carall = csv_to_ig(PATH[\"data\"] + placeid + \"/\", placeid, 'carall')\n",
    "\n",
    "    # Load POIs\n",
    "    with open(PATH[\"data\"] + placeid + \"/\" + placeid + '_poi_' + poi_source + '_nnidscarall.csv') as f:\n",
    "        nnids = [int(line.rstrip()) for line in f]\n",
    "\n",
    "    prune_quantiles = [0.5]\n",
    "\n",
    "    # Generation\n",
    "    gts, abstract_gts = greedy_triangulation_in_steps(\n",
    "        graph=G_carall,\n",
    "        pois=nnids,\n",
    "        subgraph_percentage=0.6,\n",
    "        prune_quantiles=prune_quantiles,\n",
    "        prune_measure=\"betweenness\",\n",
    "    )\n",
    "    #\n",
    "    # filename = placeid + '_poi_' + poi_source + \"_\" + prune_measure\n",
    "    # result_file = open(PATH[\"results\"] + placeid + \"/\" + filename + \".pickle\", 'rb')\n",
    "    # res = pickle.load(result_file)\n",
    "    # szell_gts = res[\"GTs\"]\n",
    "\n",
    "    # results = {\n",
    "    #     \"placeid\": placeid,\n",
    "    #     \"prune_measure\": prune_measure,\n",
    "    #     \"poi_source\": poi_source,\n",
    "    #     \"prune_quantiles\": prune_quantiles,\n",
    "    #     \"GTs\": gts,\n",
    "    #     \"GT_abstracts\": abstract_gts,\n",
    "    #     # \"MST\": MST,\n",
    "    #     # \"MST_abstract\": MST_abstract\n",
    "    # }\n",
    "    # write_result(results, \"pickle\", f'{placeid}_research', poi_source, prune_measure, \".pickle\")\n",
    "\n",
    "    (GTs, GT_abstracts) = _greedy_triangulation_routing(G_carall, nnids, prune_quantiles, \"betweenness\")\n",
    "\n",
    "    # results = {\n",
    "    #     \"placeid\": placeid,\n",
    "    #     \"prune_measure\": prune_measure,\n",
    "    #     \"poi_source\": poi_source,\n",
    "    #     \"prune_quantiles\": prune_quantiles,\n",
    "    #     \"GTs\": GTs,\n",
    "    #     \"GT_abstracts\": GT_abstracts,\n",
    "    #     # \"MST\": MST,\n",
    "    #     # \"MST_abstract\": MST_abstract\n",
    "    # }\n",
    "    # write_result(results, \"pickle\", f'{placeid}_szell', poi_source, prune_measure, \".pickle\")\n",
    "\n",
    "    for prune_quantile, gt, szell_gt in zip(prune_quantiles, gts, GTs):\n",
    "        print(f'Number of vertices in research project: {gt.vcount()}')\n",
    "        print(f\"Number of vertices in Szell's project: {szell_gt.vcount()}\")\n",
    "\n",
    "        print(f\"Prune quantile: {prune_quantile}\")\n",
    "        error, our_disconnected_points, szell_disconnected_points = sum_of_errors_pois(gt, szell_gt, nnids)\n",
    "        print(\"Error: \", error)\n",
    "        print(\"Disconnected points in our graph: \", our_disconnected_points)\n",
    "        print(\"Disconnected points in Szell's graph: \", szell_disconnected_points)"
   ]
  },
  {
   "cell_type": "code",
   "execution_count": null,
   "id": "aacfe684b23f890",
   "metadata": {},
   "outputs": [],
   "source": [
    "for placeid, placeinfo in tqdm(cities.items(), desc=\"Cities\"):\n",
    "    result_file = open(PATH[\"results\"] + placeid + \"/\" + filename + \".pickle\", 'rb')\n",
    "    res = pickle.load(result_file)\n",
    "    szell_gts = res[\"GTs\"]"
   ]
  },
  {
   "cell_type": "code",
   "execution_count": null,
   "id": "f01360a85c9f2c30",
   "metadata": {},
   "outputs": [],
   "source": []
  }
 ],
 "metadata": {
  "kernelspec": {
   "display_name": "Python 3 (ipykernel)",
   "language": "python",
   "name": "python3"
  },
  "language_info": {
   "codemirror_mode": {
    "name": "ipython",
    "version": 3
   },
   "file_extension": ".py",
   "mimetype": "text/x-python",
   "name": "python",
   "nbconvert_exporter": "python",
   "pygments_lexer": "ipython3",
   "version": "3.12.7"
  }
 },
 "nbformat": 4,
 "nbformat_minor": 5
}
