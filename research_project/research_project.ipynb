{
 "cells": [
  {
   "cell_type": "markdown",
   "id": "e70580174f0d1cd",
   "metadata": {},
   "source": [
    "# Setup"
   ]
  },
  {
   "cell_type": "code",
   "execution_count": 1,
   "id": "initial_id",
   "metadata": {
    "ExecuteTime": {
     "end_time": "2024-11-28T12:02:27.458182Z",
     "start_time": "2024-11-28T12:02:23.946544Z"
    }
   },
   "outputs": [
    {
     "name": "stdout",
     "output_type": "stream",
     "text": [
      "Current working directory: /Users/jaborup/Projects/continuous-bike-growth\n",
      "Loaded parameters.\n",
      "\n",
      "Loaded PATH.\n",
      "\n",
      "\n",
      "\n",
      "=== Cities ===\n",
      "{   'bern': {'countryid': 'che', 'name': 'Bern', 'nominatimstring': 'bern'},\n",
      "    'copenhagen': {   'countryid': 'dnk',\n",
      "                      'name': 'Copenhagen',\n",
      "                      'nominatimstring': ''},\n",
      "    'montreal': {   'countryid': 'can',\n",
      "                    'name': 'Montreal',\n",
      "                    'nominatimstring': 'montreal (06)'}}\n",
      "==============\n",
      "\n",
      "\n",
      "Setup finished.\n",
      "\n",
      "Loaded functions.\n",
      "\n",
      "osgeo.gdal 3.8.5\n",
      "matplotlib 3.8.4\n",
      "shapely    2.0.4\n",
      "networkx   3.3\n",
      "igraph     0.11.6\n",
      "fiona      1.9.5\n",
      "csv        1.0\n",
      "watermark  2.0.2\n",
      "numpy      1.26.4\n",
      "pyproj     3.6.1\n",
      "geopandas  1.0.1\n",
      "osmnx      2.0.0b3\n",
      "pandas     2.2.3\n",
      "geojson    2.5.0\n",
      "Thu Nov 28 2024 \n",
      "\n",
      "CPython 3.12.7\n",
      "IPython 8.6.0\n",
      "\n",
      "compiler   : Clang 17.0.6 \n",
      "system     : Darwin\n",
      "release    : 23.6.0\n",
      "machine    : arm64\n",
      "processor  : arm\n",
      "CPU cores  : 8\n",
      "interpreter: 64bit\n",
      "Git hash   : ef7f852c24da293a7da2afa6db6d86ab48e5b0df\n"
     ]
    }
   ],
   "source": [
    "import os\n",
    "import sys\n",
    "sys.path.append(\"..\")\n",
    "\n",
    "debug = True # If True, will produce plots and/or verbose output to double-check\n",
    "\n",
    "print(f\"Current working directory: {sys.path[0]}\")\n",
    "%run -i \"../parameters/parameters.py\"\n",
    "%run -i \"../src/path.py\"\n",
    "%run -i \"../src/setup.py\"\n",
    "%run -i \"../src/functions.py\"\n",
    "%run -i \"greedy_triangulation.py\"\n",
    "%run -i \"graph_similarity.py\"\n",
    "%run -i \"write_results_percentages.py\"\n",
    "%run -i \"analyze_poi_based_results.py\"\n",
    "\n",
    "%load_ext watermark\n",
    "%watermark -n -v -m -g -iv"
   ]
  },
  {
   "cell_type": "code",
   "execution_count": 2,
   "id": "96db9e6b",
   "metadata": {},
   "outputs": [],
   "source": [
    "city = \"copenhagen\"\n",
    "iterations = 15\n",
    "\n",
    "prune_quantiles = [0.5]\n",
    "subgraph_percentages_tests = [\n",
    "    [0.6, 0.4],\n",
    "]"
   ]
  },
  {
   "cell_type": "markdown",
   "id": "1cf3a15bf0f54fd0",
   "metadata": {},
   "source": [
    "# Run the program"
   ]
  },
  {
   "cell_type": "code",
   "execution_count": 3,
   "id": "4b5966f41d05f75f",
   "metadata": {},
   "outputs": [
    {
     "name": "stdout",
     "output_type": "stream",
     "text": [
      "copenhagen: Generating graph and POIs\n"
     ]
    },
    {
     "name": "stderr",
     "output_type": "stream",
     "text": [
      "/Users/jaborup/Projects/continuous-bike-growth/src/functions.py:346: DtypeWarning: Columns (16) have mixed types. Specify dtype option on import or set low_memory=False.\n",
      "  e = pd.read_csv(p + prefix + '_edges.csv')\n"
     ]
    },
    {
     "name": "stdout",
     "output_type": "stream",
     "text": [
      "Prune measure: closeness\n"
     ]
    },
    {
     "data": {
      "application/vnd.jupyter.widget-view+json": {
       "model_id": "",
       "version_major": 2,
       "version_minor": 0
      },
      "text/plain": [
       "Greedy triangulation:   0%|          | 0/1 [00:00<?, ?it/s]"
      ]
     },
     "metadata": {},
     "output_type": "display_data"
    },
    {
     "name": "stdout",
     "output_type": "stream",
     "text": [
      "Writing data to copenhagen_closeness_0.25_0.25_0.25_0.25.csv\n"
     ]
    },
    {
     "data": {
      "application/vnd.jupyter.widget-view+json": {
       "model_id": "",
       "version_major": 2,
       "version_minor": 0
      },
      "text/plain": [
       "Iterations:   0%|          | 0/15 [00:00<?, ?it/s]"
      ]
     },
     "metadata": {},
     "output_type": "display_data"
    },
    {
     "data": {
      "application/vnd.jupyter.widget-view+json": {
       "model_id": "",
       "version_major": 2,
       "version_minor": 0
      },
      "text/plain": [
       "Stepwise greedy triangulation on subgraphs:   0%|          | 0/1 [00:00<?, ?it/s]"
      ]
     },
     "metadata": {},
     "output_type": "display_data"
    },
    {
     "data": {
      "application/vnd.jupyter.widget-view+json": {
       "model_id": "",
       "version_major": 2,
       "version_minor": 0
      },
      "text/plain": [
       "Stepwise greedy triangulation on subgraphs:   0%|          | 0/1 [00:00<?, ?it/s]"
      ]
     },
     "metadata": {},
     "output_type": "display_data"
    },
    {
     "data": {
      "application/vnd.jupyter.widget-view+json": {
       "model_id": "",
       "version_major": 2,
       "version_minor": 0
      },
      "text/plain": [
       "Stepwise greedy triangulation on subgraphs:   0%|          | 0/1 [00:00<?, ?it/s]"
      ]
     },
     "metadata": {},
     "output_type": "display_data"
    },
    {
     "data": {
      "application/vnd.jupyter.widget-view+json": {
       "model_id": "",
       "version_major": 2,
       "version_minor": 0
      },
      "text/plain": [
       "Stepwise greedy triangulation on subgraphs:   0%|          | 0/1 [00:00<?, ?it/s]"
      ]
     },
     "metadata": {},
     "output_type": "display_data"
    },
    {
     "data": {
      "application/vnd.jupyter.widget-view+json": {
       "model_id": "",
       "version_major": 2,
       "version_minor": 0
      },
      "text/plain": [
       "Stepwise greedy triangulation on subgraphs:   0%|          | 0/1 [00:00<?, ?it/s]"
      ]
     },
     "metadata": {},
     "output_type": "display_data"
    },
    {
     "data": {
      "application/vnd.jupyter.widget-view+json": {
       "model_id": "",
       "version_major": 2,
       "version_minor": 0
      },
      "text/plain": [
       "Stepwise greedy triangulation on subgraphs:   0%|          | 0/1 [00:00<?, ?it/s]"
      ]
     },
     "metadata": {},
     "output_type": "display_data"
    },
    {
     "data": {
      "application/vnd.jupyter.widget-view+json": {
       "model_id": "",
       "version_major": 2,
       "version_minor": 0
      },
      "text/plain": [
       "Stepwise greedy triangulation on subgraphs:   0%|          | 0/1 [00:00<?, ?it/s]"
      ]
     },
     "metadata": {},
     "output_type": "display_data"
    },
    {
     "data": {
      "application/vnd.jupyter.widget-view+json": {
       "model_id": "",
       "version_major": 2,
       "version_minor": 0
      },
      "text/plain": [
       "Stepwise greedy triangulation on subgraphs:   0%|          | 0/1 [00:00<?, ?it/s]"
      ]
     },
     "metadata": {},
     "output_type": "display_data"
    },
    {
     "data": {
      "application/vnd.jupyter.widget-view+json": {
       "model_id": "",
       "version_major": 2,
       "version_minor": 0
      },
      "text/plain": [
       "Stepwise greedy triangulation on subgraphs:   0%|          | 0/1 [00:00<?, ?it/s]"
      ]
     },
     "metadata": {},
     "output_type": "display_data"
    },
    {
     "data": {
      "application/vnd.jupyter.widget-view+json": {
       "model_id": "",
       "version_major": 2,
       "version_minor": 0
      },
      "text/plain": [
       "Stepwise greedy triangulation on subgraphs:   0%|          | 0/1 [00:00<?, ?it/s]"
      ]
     },
     "metadata": {},
     "output_type": "display_data"
    },
    {
     "data": {
      "application/vnd.jupyter.widget-view+json": {
       "model_id": "",
       "version_major": 2,
       "version_minor": 0
      },
      "text/plain": [
       "Stepwise greedy triangulation on subgraphs:   0%|          | 0/1 [00:00<?, ?it/s]"
      ]
     },
     "metadata": {},
     "output_type": "display_data"
    },
    {
     "data": {
      "application/vnd.jupyter.widget-view+json": {
       "model_id": "",
       "version_major": 2,
       "version_minor": 0
      },
      "text/plain": [
       "Stepwise greedy triangulation on subgraphs:   0%|          | 0/1 [00:00<?, ?it/s]"
      ]
     },
     "metadata": {},
     "output_type": "display_data"
    },
    {
     "data": {
      "application/vnd.jupyter.widget-view+json": {
       "model_id": "",
       "version_major": 2,
       "version_minor": 0
      },
      "text/plain": [
       "Stepwise greedy triangulation on subgraphs:   0%|          | 0/1 [00:00<?, ?it/s]"
      ]
     },
     "metadata": {},
     "output_type": "display_data"
    },
    {
     "data": {
      "application/vnd.jupyter.widget-view+json": {
       "model_id": "",
       "version_major": 2,
       "version_minor": 0
      },
      "text/plain": [
       "Stepwise greedy triangulation on subgraphs:   0%|          | 0/1 [00:00<?, ?it/s]"
      ]
     },
     "metadata": {},
     "output_type": "display_data"
    },
    {
     "data": {
      "application/vnd.jupyter.widget-view+json": {
       "model_id": "",
       "version_major": 2,
       "version_minor": 0
      },
      "text/plain": [
       "Stepwise greedy triangulation on subgraphs:   0%|          | 0/1 [00:00<?, ?it/s]"
      ]
     },
     "metadata": {},
     "output_type": "display_data"
    }
   ],
   "source": [
    "placeid = city\n",
    "print(f\"{placeid}: Generating graph and POIs\")\n",
    "\n",
    "G_carall = csv_to_ig(PATH[\"data\"] + placeid + \"/\", placeid, 'carall')\n",
    "with open(PATH[\"data\"] + placeid + \"/\" + placeid + '_poi_' + poi_source + '_nnidscarall.csv') as f:\n",
    "    nnids = [int(line.rstrip()) for line in f]\n",
    "\n",
    "for prune_measure in [\"betweenness\", \"random\", \"closeness\"]:\n",
    "    print(f\"Prune measure: {prune_measure}\")\n",
    "\n",
    "    (GTs, GT_abstracts) = _greedy_triangulation_routing(G_carall, nnids, prune_quantiles, prune_measure)\n",
    "\n",
    "    for subgraph_percentages in subgraph_percentages_tests:\n",
    "        file_name = f\"{placeid}_{prune_measure}_{'_'.join(map(str, subgraph_percentages))}.csv\"\n",
    "        print(f\"Writing data to {file_name}\")\n",
    "        dir = \"csv_data/\"\n",
    "        path = os.path.join(dir, file_name)\n",
    "        with open(path, 'w') as f:\n",
    "            writer = csv.writer(f)\n",
    "            writer.writerow([\n",
    "                \"sum_of_errors\",\n",
    "                \"continuous_vertices\",\n",
    "                \"bikengrowth_vertices\",\n",
    "                \"continuous_disconnected_pairs\",\n",
    "                \"bikengrowth_disconnected_pairs\",\n",
    "            ])\n",
    "\n",
    "            for i in tqdm(range(iterations), desc=\"Iterations\", leave=False):\n",
    "                if prune_measure == \"random\":\n",
    "                    (GTs, GT_abstracts) = _greedy_triangulation_routing(G_carall, nnids, prune_quantiles, prune_measure)\n",
    "\n",
    "                gts, abstract_gts = greedy_triangulation_in_steps(G_carall, nnids, subgraph_percentages, prune_quantiles, prune_measure)\n",
    "\n",
    "                for prune_quantile, gt, szell_gt in zip(prune_quantiles, gts, GTs):\n",
    "                    error, szell_disconnected_points, our_disconnected_points = sum_of_errors_pois(szell_gt, gt, nnids)\n",
    "\n",
    "                writer.writerow([error, gt.vcount(), szell_gt.vcount(), our_disconnected_points, szell_disconnected_points])\n",
    "                # write_result_with_percentages(res=results, mode=\"pickle\", placeid=placeid, iteration=str(i), poi_source=poi_source, prune_measure=prune_measure, suffix=\".pickle\")"
   ]
  },
  {
   "cell_type": "code",
   "execution_count": null,
   "id": "7f542b18",
   "metadata": {},
   "outputs": [],
   "source": [
    "# Analyze results\n",
    "analyze_poi_base_results_iterations(placeid=placeid, iterations=iterations)"
   ]
  },
  {
   "cell_type": "code",
   "execution_count": null,
   "id": "4963cbfe",
   "metadata": {},
   "outputs": [],
   "source": []
  }
 ],
 "metadata": {
  "kernelspec": {
   "display_name": "Python 3 (ipykernel)",
   "language": "python",
   "name": "python3"
  },
  "language_info": {
   "codemirror_mode": {
    "name": "ipython",
    "version": 3
   },
   "file_extension": ".py",
   "mimetype": "text/x-python",
   "name": "python",
   "nbconvert_exporter": "python",
   "pygments_lexer": "ipython3",
   "version": "3.12.7"
  }
 },
 "nbformat": 4,
 "nbformat_minor": 5
}
