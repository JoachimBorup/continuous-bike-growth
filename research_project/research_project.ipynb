{
 "cells": [
  {
   "cell_type": "markdown",
   "id": "e70580174f0d1cd",
   "metadata": {},
   "source": [
    "# Setup"
   ]
  },
  {
   "cell_type": "code",
   "execution_count": null,
   "id": "initial_id",
   "metadata": {},
   "outputs": [],
   "source": [
    "from parameters.parameters import prune_quantiles, prune_measure\n",
    "\n",
    "debug = True # If True, will produce plots and/or verbose output to double-check\n",
    "\n",
    "import sys\n",
    "sys.path.append(\"..\")\n",
    "\n",
    "# Path\n",
    "print(\"Current working directory: \", sys.path[0])\n",
    "%run -i \"../parameters/parameters.py\"\n",
    "%run -i \"../src/path.py\"\n",
    "%run -i \"../src/setup.py\"\n",
    "%run -i \"../src/functions.py\"\n",
    "%run -i \"greedy_triangulation.py\"\n",
    "%run -i \"graph_similarity.py\"\n",
    "\n",
    "%load_ext watermark\n",
    "%watermark -n -v -m -g -iv"
   ]
  },
  {
   "cell_type": "markdown",
   "id": "1cf3a15bf0f54fd0",
   "metadata": {},
   "source": [
    "# Run the program"
   ]
  },
  {
   "cell_type": "code",
   "execution_count": null,
   "id": "4b5966f41d05f75f",
   "metadata": {},
   "outputs": [],
   "source": [
    "for placeid, placeinfo in tqdm(cities.items(), desc=\"Cities\"):\n",
    "    print(placeid + \": Generating graph and POIs\")\n",
    "\n",
    "    G_carall = csv_to_ig(PATH[\"data\"] + placeid + \"/\", placeid, 'carall')\n",
    "    with open(PATH[\"data\"] + placeid + \"/\" + placeid + '_poi_' + poi_source + '_nnidscarall.csv') as f:\n",
    "        nnids = [int(line.rstrip()) for line in f]\n",
    "\n",
    "    prune_quantiles = [0.5]\n",
    "    subgraph_percentages_tests = [\n",
    "        [0.25, 0.25, 0.25, 0.25],\n",
    "        [0.75, 0.25],\n",
    "        [0.25, 0.75],\n",
    "        [0.33, 0.33, 0.34],\n",
    "    ]\n",
    "\n",
    "    for prune_measure in [\"betweenness\", \"random\"]:\n",
    "        print(f\"Prune measure: {prune_measure}\")\n",
    "\n",
    "        (GTs, GT_abstracts) = _greedy_triangulation_routing(G_carall, nnids, prune_quantiles, prune_measure)\n",
    "\n",
    "        for subgraph_percentages in subgraph_percentages_tests:\n",
    "            file_name = f\"{placeid}_{prune_measure}_{'_'.join(map(str, subgraph_percentages))}.csv\"\n",
    "            print(f\"Writing data to {file_name}\")\n",
    "            with open(file_name, 'w') as f:\n",
    "                writer = csv.writer(f)\n",
    "                writer.writerow([\n",
    "                    \"sum_of_errors\",\n",
    "                    \"continuous_vertices\",\n",
    "                    \"bikengrowth_vertices\",\n",
    "                    \"continuous_disconnected_pairs\",\n",
    "                    \"bikengrowth_disconnected_pairs\",\n",
    "                ])\n",
    "\n",
    "                for i in range(100):\n",
    "                    print(f\"Running iteration {i + 1}\")\n",
    "                    if prune_measure == \"random\":\n",
    "                        (GTs, GT_abstracts) = _greedy_triangulation_routing(G_carall, nnids, prune_quantiles, prune_measure)\n",
    "\n",
    "                    gts, abstract_gts = greedy_triangulation_in_steps(G_carall, nnids, subgraph_percentages, prune_quantiles, prune_measure)\n",
    "\n",
    "                    for prune_quantile, gt, szell_gt in zip(prune_quantiles, gts, GTs):\n",
    "                        error, our_disconnected_points, szell_disconnected_points = sum_of_errors_pois(szell_gt, gt, nnids)\n",
    "\n",
    "                    writer.writerow([error, gt.vcount(), szell_gt.vcount(), our_disconnected_points, szell_disconnected_points])"
   ]
  },
  {
   "cell_type": "code",
   "execution_count": null,
   "id": "aacfe684b23f890",
   "metadata": {},
   "outputs": [],
   "source": [
    "for placeid, placeinfo in tqdm(cities.items(), desc=\"Cities\"):\n",
    "    result_file = open(PATH[\"results\"] + placeid + \"/\" + filename + \".pickle\", 'rb')\n",
    "    res = pickle.load(result_file)\n",
    "    szell_gts = res[\"GTs\"]"
   ]
  },
  {
   "cell_type": "code",
   "execution_count": null,
   "id": "f01360a85c9f2c30",
   "metadata": {},
   "outputs": [],
   "source": []
  }
 ],
 "metadata": {
  "kernelspec": {
   "display_name": "Python 3 (ipykernel)",
   "language": "python",
   "name": "python3"
  },
  "language_info": {
   "codemirror_mode": {
    "name": "ipython",
    "version": 3
   },
   "file_extension": ".py",
   "mimetype": "text/x-python",
   "name": "python",
   "nbconvert_exporter": "python",
   "pygments_lexer": "ipython3"
  }
 },
 "nbformat": 4,
 "nbformat_minor": 5
}
