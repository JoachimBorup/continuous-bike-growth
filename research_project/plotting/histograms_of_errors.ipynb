{
 "cells": [
  {
   "cell_type": "code",
   "execution_count": null,
   "metadata": {},
   "outputs": [],
   "source": [
    "import pandas as pd\n",
    "import numpy as np\n",
    "import matplotlib.pyplot as plt\n",
    "import seaborn as sns\n",
    "import os as os"
   ]
  },
  {
   "cell_type": "code",
   "execution_count": null,
   "metadata": {},
   "outputs": [],
   "source": [
    "file_names = []\n",
    "source_folder = 'graph_data'\n",
    "for file_name in os.listdir(source_folder):\n",
    "    if file_name.endswith('.csv'):\n",
    "        file_names.append(file_name)\n"
   ]
  },
  {
   "cell_type": "code",
   "execution_count": null,
   "metadata": {},
   "outputs": [],
   "source": [
    "\n",
    "def df_plot(file_name, name):\n",
    "    df = (pd.read_csv(source_folder + \"/\" + file_name))\n",
    "    # Create bins for the histogram\n",
    "    bin_edges = pd.cut(df[\"sum_of_errors\"], bins=15)\n",
    "\n",
    "    # Compute averages of disconnected points per bin\n",
    "    average_points = df.groupby(bin_edges, observed=False)[\n",
    "        [\"continuous_disconnected_points\"]\n",
    "    ].mean()\n",
    "\n",
    "   \n",
    "\n",
    "    fig, ax1 = plt.subplots(figsize=(12, 6))\n",
    "\n",
    "    # Plot the histogram on the primary axis\n",
    "    sns.histplot(df[\"sum_of_errors\"], bins=15, kde=False, color=\"skyblue\", ax=ax1, label=\"Histogram\")\n",
    "    ax1.set_xlabel(\"Sum of Errors\")\n",
    "    ax1.set_ylabel(\"Frequency\", color=\"skyblue\")\n",
    "    ax1.tick_params(axis=\"y\", labelcolor=\"skyblue\")\n",
    "\n",
    "    # Create the secondary axis\n",
    "    ax2 = ax1.twinx()\n",
    "    avg_bin_centers = [interval.mid for interval in average_points.index.categories]\n",
    "\n",
    "    # Plot the average disconnected points on the secondary axis\n",
    "    ax2.plot(avg_bin_centers, average_points[\"continuous_disconnected_points\"], marker=\"o\", color=\"red\", label=\"Avg Continuous Disconnected\")\n",
    "    ax2.set_ylabel(\"Average Disconnected Points\", color=\"black\")\n",
    "    ax2.tick_params(axis=\"y\", labelcolor=\"black\")\n",
    "\n",
    "    # Combine legends\n",
    "    lines, labels = ax1.get_legend_handles_labels()\n",
    "    lines2, labels2 = ax2.get_legend_handles_labels()\n",
    "    ax2.legend(lines + lines2, labels + labels2, loc=\"upper left\")\n",
    "\n",
    "    # Add a grid for better readability\n",
    "    plt.grid(axis=\"y\", linestyle=\"--\", alpha=0.7)\n",
    "\n",
    "    # Title and layout adjustments\n",
    "    plt.title(name)\n",
    "    plt.tight_layout()\n",
    "\n",
    "    #save the plot and overwrite the old one\n",
    "    plt.savefig(source_folder + '/' + name + '.png')\n",
    "\n",
    "    # Show the plot\n",
    "    plt.show()"
   ]
  },
  {
   "cell_type": "code",
   "execution_count": null,
   "metadata": {},
   "outputs": [],
   "source": [
    "for f in file_names:\n",
    "    #df_plot(file_name='montreal_betweenness.csv', name='montreal_betweenness')\n",
    "    df_plot(file_name=f, name=f.split('.')[0])"
   ]
  }
 ],
 "metadata": {
  "kernelspec": {
   "display_name": "OSMNX",
   "language": "python",
   "name": "python3"
  },
  "language_info": {
   "codemirror_mode": {
    "name": "ipython",
    "version": 3
   },
   "file_extension": ".py",
   "mimetype": "text/x-python",
   "name": "python",
   "nbconvert_exporter": "python",
   "pygments_lexer": "ipython3"
  }
 },
 "nbformat": 4,
 "nbformat_minor": 2
}
