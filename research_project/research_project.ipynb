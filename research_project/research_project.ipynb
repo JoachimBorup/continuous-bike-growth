{
 "cells": [
  {
   "cell_type": "markdown",
   "id": "e70580174f0d1cd",
   "metadata": {},
   "source": [
    "# Setup"
   ]
  },
  {
   "cell_type": "code",
   "execution_count": 3,
   "id": "initial_id",
   "metadata": {
    "ExecuteTime": {
     "end_time": "2024-11-21T09:36:03.705770Z",
     "start_time": "2024-11-21T09:35:53.758545Z"
    }
   },
   "outputs": [
    {
     "name": "stdout",
     "output_type": "stream",
     "text": [
      "Current working directory:  /Users/jaborup/Projects/continuous-bike-growth\n",
      "Loaded parameters.\n",
      "\n",
      "Loaded PATH.\n",
      "\n",
      "\n",
      "\n",
      "=== Cities ===\n",
      "{   'montreal': {   'countryid': 'can',\n",
      "                    'name': 'Montreal',\n",
      "                    'nominatimstring': 'montreal (06)'}}\n",
      "==============\n",
      "\n",
      "\n",
      "Setup finished.\n",
      "\n",
      "Loaded functions.\n",
      "\n",
      "The watermark extension is already loaded. To reload it, use:\n",
      "  %reload_ext watermark\n",
      "osgeo.gdal 3.8.5\n",
      "csv        1.0\n",
      "igraph     0.11.6\n",
      "networkx   3.3\n",
      "fiona      1.9.5\n",
      "shapely    2.0.4\n",
      "geopandas  1.0.1\n",
      "pyproj     3.6.1\n",
      "watermark  2.0.2\n",
      "osmnx      2.0.0b3\n",
      "numpy      1.26.4\n",
      "matplotlib 3.8.4\n",
      "pandas     2.2.3\n",
      "geojson    2.5.0\n",
      "Thu Nov 21 2024 \n",
      "\n",
      "CPython 3.12.7\n",
      "IPython 8.6.0\n",
      "\n",
      "compiler   : Clang 17.0.6 \n",
      "system     : Darwin\n",
      "release    : 23.6.0\n",
      "machine    : arm64\n",
      "processor  : arm\n",
      "CPU cores  : 8\n",
      "interpreter: 64bit\n",
      "Git hash   : c612c28e8968e42c6cb99a6dda6fb984fecb43e7\n"
     ]
    }
   ],
   "source": [
    "from parameters.parameters import prune_quantiles, prune_measure\n",
    "\n",
    "debug = True # If True, will produce plots and/or verbose output to double-check\n",
    "\n",
    "import sys\n",
    "sys.path.append(\"..\")\n",
    "\n",
    "# Path\n",
    "print(\"Current working directory: \", sys.path[0])\n",
    "%run -i \"../parameters/parameters.py\"\n",
    "%run -i \"../src/path.py\"\n",
    "%run -i \"../src/setup.py\"\n",
    "%run -i \"../src/functions.py\"\n",
    "%run -i \"greedy_triangulation.py\"\n",
    "%run -i \"graph_similarity.py\"\n",
    "\n",
    "%load_ext watermark\n",
    "%watermark -n -v -m -g -iv"
   ]
  },
  {
   "cell_type": "markdown",
   "id": "1cf3a15bf0f54fd0",
   "metadata": {},
   "source": [
    "# Run the program"
   ]
  },
  {
   "cell_type": "code",
   "execution_count": null,
   "id": "4b5966f41d05f75f",
   "metadata": {
    "ExecuteTime": {
     "end_time": "2024-11-14T13:20:44.187281Z",
     "start_time": "2024-11-14T13:20:44.107887Z"
    }
   },
   "outputs": [
    {
     "data": {
      "application/vnd.jupyter.widget-view+json": {
       "model_id": "5ebf720838b141ceb710c67bdd7dfed5",
       "version_major": 2,
       "version_minor": 0
      },
      "text/plain": [
       "Cities:   0%|          | 0/1 [00:00<?, ?it/s]"
      ]
     },
     "metadata": {},
     "output_type": "display_data"
    },
    {
     "name": "stdout",
     "output_type": "stream",
     "text": [
      "montreal: Generating graph and POIs\n"
     ]
    },
    {
     "name": "stderr",
     "output_type": "stream",
     "text": [
      "/Users/jaborup/Projects/continuous-bike-growth/src/functions.py:345: DtypeWarning: Columns (5) have mixed types. Specify dtype option on import or set low_memory=False.\n",
      "  n = pd.read_csv(p + prefix + '_nodes.csv')\n",
      "/Users/jaborup/Projects/continuous-bike-growth/src/functions.py:346: DtypeWarning: Columns (5,9,16) have mixed types. Specify dtype option on import or set low_memory=False.\n",
      "  e = pd.read_csv(p + prefix + '_edges.csv')\n"
     ]
    },
    {
     "name": "stdout",
     "output_type": "stream",
     "text": [
      "Prune measure: betweenness\n"
     ]
    },
    {
     "data": {
      "application/vnd.jupyter.widget-view+json": {
       "model_id": "",
       "version_major": 2,
       "version_minor": 0
      },
      "text/plain": [
       "Greedy triangulation:   0%|          | 0/1 [00:00<?, ?it/s]"
      ]
     },
     "metadata": {},
     "output_type": "display_data"
    },
    {
     "name": "stderr",
     "output_type": "stream",
     "text": [
      "SZELL: Vertices after copying original graph: 143\n",
      "SZELL: Vertices after first greedy triangulation: 34643\n",
      "SZELL: Vertices after first pruning: 21466\n",
      "SZELL: Vertices in shortest paths, including POIs: 21466\n"
     ]
    },
    {
     "name": "stdout",
     "output_type": "stream",
     "text": [
      "Writing data to montreal_betweenness.csv\n",
      "Running iteration 1\n"
     ]
    },
    {
     "data": {
      "application/vnd.jupyter.widget-view+json": {
       "model_id": "",
       "version_major": 2,
       "version_minor": 0
      },
      "text/plain": [
       "Greedy triangulation on 60.0% subgraph:   0%|          | 0/1 [00:00<?, ?it/s]"
      ]
     },
     "metadata": {},
     "output_type": "display_data"
    },
    {
     "name": "stderr",
     "output_type": "stream",
     "text": [
      "Vertices after copying original graph: 143\n",
      "Vertices after first greedy triangulation: 24828\n",
      "Vertices after first pruning: 16516\n",
      "Vertices after second greedy triangulation: 33761\n",
      "Vertices after second pruning: 16516\n",
      "Vertices in shortest paths: 16516\n"
     ]
    },
    {
     "name": "stdout",
     "output_type": "stream",
     "text": [
      "Running iteration 2\n"
     ]
    },
    {
     "data": {
      "application/vnd.jupyter.widget-view+json": {
       "model_id": "",
       "version_major": 2,
       "version_minor": 0
      },
      "text/plain": [
       "Greedy triangulation on 60.0% subgraph:   0%|          | 0/1 [00:00<?, ?it/s]"
      ]
     },
     "metadata": {},
     "output_type": "display_data"
    },
    {
     "name": "stderr",
     "output_type": "stream",
     "text": [
      "Vertices after copying original graph: 143\n",
      "Vertices after first greedy triangulation: 27046\n",
      "Vertices after first pruning: 17875\n",
      "Vertices after second greedy triangulation: 34223\n",
      "Vertices after second pruning: 17875\n",
      "Vertices in shortest paths: 17875\n"
     ]
    },
    {
     "name": "stdout",
     "output_type": "stream",
     "text": [
      "Running iteration 3\n"
     ]
    },
    {
     "data": {
      "application/vnd.jupyter.widget-view+json": {
       "model_id": "",
       "version_major": 2,
       "version_minor": 0
      },
      "text/plain": [
       "Greedy triangulation on 60.0% subgraph:   0%|          | 0/1 [00:00<?, ?it/s]"
      ]
     },
     "metadata": {},
     "output_type": "display_data"
    },
    {
     "name": "stderr",
     "output_type": "stream",
     "text": [
      "Vertices after copying original graph: 143\n",
      "Vertices after first greedy triangulation: 25439\n",
      "Vertices after first pruning: 16774\n",
      "Vertices after second greedy triangulation: 33768\n",
      "Vertices after second pruning: 16774\n",
      "Vertices in shortest paths: 16774\n"
     ]
    },
    {
     "name": "stdout",
     "output_type": "stream",
     "text": [
      "Running iteration 4\n"
     ]
    },
    {
     "data": {
      "application/vnd.jupyter.widget-view+json": {
       "model_id": "",
       "version_major": 2,
       "version_minor": 0
      },
      "text/plain": [
       "Greedy triangulation on 60.0% subgraph:   0%|          | 0/1 [00:00<?, ?it/s]"
      ]
     },
     "metadata": {},
     "output_type": "display_data"
    },
    {
     "name": "stderr",
     "output_type": "stream",
     "text": [
      "Vertices after copying original graph: 143\n",
      "Vertices after first greedy triangulation: 27107\n",
      "Vertices after first pruning: 17818\n",
      "Vertices after second greedy triangulation: 34487\n",
      "Vertices after second pruning: 17818\n",
      "Vertices in shortest paths: 17818\n"
     ]
    },
    {
     "name": "stdout",
     "output_type": "stream",
     "text": [
      "Running iteration 5\n"
     ]
    },
    {
     "data": {
      "application/vnd.jupyter.widget-view+json": {
       "model_id": "",
       "version_major": 2,
       "version_minor": 0
      },
      "text/plain": [
       "Greedy triangulation on 60.0% subgraph:   0%|          | 0/1 [00:00<?, ?it/s]"
      ]
     },
     "metadata": {},
     "output_type": "display_data"
    },
    {
     "name": "stderr",
     "output_type": "stream",
     "text": [
      "Vertices after copying original graph: 143\n",
      "Vertices after first greedy triangulation: 27549\n",
      "Vertices after first pruning: 17013\n",
      "Vertices after second greedy triangulation: 34527\n",
      "Vertices after second pruning: 17013\n",
      "Vertices in shortest paths: 17013\n"
     ]
    },
    {
     "name": "stdout",
     "output_type": "stream",
     "text": [
      "Running iteration 6\n"
     ]
    },
    {
     "data": {
      "application/vnd.jupyter.widget-view+json": {
       "model_id": "",
       "version_major": 2,
       "version_minor": 0
      },
      "text/plain": [
       "Greedy triangulation on 60.0% subgraph:   0%|          | 0/1 [00:00<?, ?it/s]"
      ]
     },
     "metadata": {},
     "output_type": "display_data"
    },
    {
     "name": "stderr",
     "output_type": "stream",
     "text": [
      "Vertices after copying original graph: 143\n",
      "Vertices after first greedy triangulation: 27119\n",
      "Vertices after first pruning: 17858\n",
      "Vertices after second greedy triangulation: 33878\n",
      "Vertices after second pruning: 17858\n",
      "Vertices in shortest paths: 17858\n"
     ]
    },
    {
     "name": "stdout",
     "output_type": "stream",
     "text": [
      "Running iteration 7\n"
     ]
    },
    {
     "data": {
      "application/vnd.jupyter.widget-view+json": {
       "model_id": "",
       "version_major": 2,
       "version_minor": 0
      },
      "text/plain": [
       "Greedy triangulation on 60.0% subgraph:   0%|          | 0/1 [00:00<?, ?it/s]"
      ]
     },
     "metadata": {},
     "output_type": "display_data"
    },
    {
     "name": "stderr",
     "output_type": "stream",
     "text": [
      "Vertices after copying original graph: 143\n",
      "Vertices after first greedy triangulation: 28863\n",
      "Vertices after first pruning: 18465\n",
      "Vertices after second greedy triangulation: 34354\n",
      "Vertices after second pruning: 18465\n",
      "Vertices in shortest paths: 18465\n"
     ]
    },
    {
     "name": "stdout",
     "output_type": "stream",
     "text": [
      "Running iteration 8\n"
     ]
    },
    {
     "data": {
      "application/vnd.jupyter.widget-view+json": {
       "model_id": "",
       "version_major": 2,
       "version_minor": 0
      },
      "text/plain": [
       "Greedy triangulation on 60.0% subgraph:   0%|          | 0/1 [00:00<?, ?it/s]"
      ]
     },
     "metadata": {},
     "output_type": "display_data"
    },
    {
     "name": "stderr",
     "output_type": "stream",
     "text": [
      "Vertices after copying original graph: 143\n",
      "Vertices after first greedy triangulation: 26955\n",
      "Vertices after first pruning: 17530\n",
      "Vertices after second greedy triangulation: 34220\n",
      "Vertices after second pruning: 17530\n",
      "Vertices in shortest paths: 17530\n"
     ]
    },
    {
     "name": "stdout",
     "output_type": "stream",
     "text": [
      "Running iteration 9\n"
     ]
    },
    {
     "data": {
      "application/vnd.jupyter.widget-view+json": {
       "model_id": "",
       "version_major": 2,
       "version_minor": 0
      },
      "text/plain": [
       "Greedy triangulation on 60.0% subgraph:   0%|          | 0/1 [00:00<?, ?it/s]"
      ]
     },
     "metadata": {},
     "output_type": "display_data"
    },
    {
     "name": "stderr",
     "output_type": "stream",
     "text": [
      "Vertices after copying original graph: 143\n",
      "Vertices after first greedy triangulation: 25739\n",
      "Vertices after first pruning: 16896\n",
      "Vertices after second greedy triangulation: 34214\n",
      "Vertices after second pruning: 16896\n",
      "Vertices in shortest paths: 16896\n"
     ]
    },
    {
     "name": "stdout",
     "output_type": "stream",
     "text": [
      "Running iteration 10\n"
     ]
    },
    {
     "data": {
      "application/vnd.jupyter.widget-view+json": {
       "model_id": "",
       "version_major": 2,
       "version_minor": 0
      },
      "text/plain": [
       "Greedy triangulation on 60.0% subgraph:   0%|          | 0/1 [00:00<?, ?it/s]"
      ]
     },
     "metadata": {},
     "output_type": "display_data"
    },
    {
     "name": "stderr",
     "output_type": "stream",
     "text": [
      "Vertices after copying original graph: 143\n",
      "Vertices after first greedy triangulation: 26509\n",
      "Vertices after first pruning: 17275\n",
      "Vertices after second greedy triangulation: 34312\n",
      "Vertices after second pruning: 17275\n",
      "Vertices in shortest paths: 17275\n"
     ]
    },
    {
     "name": "stdout",
     "output_type": "stream",
     "text": [
      "Running iteration 11\n"
     ]
    },
    {
     "data": {
      "application/vnd.jupyter.widget-view+json": {
       "model_id": "",
       "version_major": 2,
       "version_minor": 0
      },
      "text/plain": [
       "Greedy triangulation on 60.0% subgraph:   0%|          | 0/1 [00:00<?, ?it/s]"
      ]
     },
     "metadata": {},
     "output_type": "display_data"
    },
    {
     "name": "stderr",
     "output_type": "stream",
     "text": [
      "Vertices after copying original graph: 143\n",
      "Vertices after first greedy triangulation: 27157\n",
      "Vertices after first pruning: 17210\n",
      "Vertices after second greedy triangulation: 34028\n",
      "Vertices after second pruning: 17210\n",
      "Vertices in shortest paths: 17210\n"
     ]
    },
    {
     "name": "stdout",
     "output_type": "stream",
     "text": [
      "Running iteration 12\n"
     ]
    },
    {
     "data": {
      "application/vnd.jupyter.widget-view+json": {
       "model_id": "",
       "version_major": 2,
       "version_minor": 0
      },
      "text/plain": [
       "Greedy triangulation on 60.0% subgraph:   0%|          | 0/1 [00:00<?, ?it/s]"
      ]
     },
     "metadata": {},
     "output_type": "display_data"
    },
    {
     "name": "stderr",
     "output_type": "stream",
     "text": [
      "Vertices after copying original graph: 143\n",
      "Vertices after first greedy triangulation: 26325\n",
      "Vertices after first pruning: 17735\n",
      "Vertices after second greedy triangulation: 33841\n",
      "Vertices after second pruning: 17735\n",
      "Vertices in shortest paths: 17735\n"
     ]
    },
    {
     "name": "stdout",
     "output_type": "stream",
     "text": [
      "Running iteration 13\n"
     ]
    },
    {
     "data": {
      "application/vnd.jupyter.widget-view+json": {
       "model_id": "",
       "version_major": 2,
       "version_minor": 0
      },
      "text/plain": [
       "Greedy triangulation on 60.0% subgraph:   0%|          | 0/1 [00:00<?, ?it/s]"
      ]
     },
     "metadata": {},
     "output_type": "display_data"
    },
    {
     "name": "stderr",
     "output_type": "stream",
     "text": [
      "Vertices after copying original graph: 143\n",
      "Vertices after first greedy triangulation: 26619\n",
      "Vertices after first pruning: 17452\n",
      "Vertices after second greedy triangulation: 33738\n",
      "Vertices after second pruning: 17452\n",
      "Vertices in shortest paths: 17452\n"
     ]
    },
    {
     "name": "stdout",
     "output_type": "stream",
     "text": [
      "Running iteration 14\n"
     ]
    },
    {
     "data": {
      "application/vnd.jupyter.widget-view+json": {
       "model_id": "",
       "version_major": 2,
       "version_minor": 0
      },
      "text/plain": [
       "Greedy triangulation on 60.0% subgraph:   0%|          | 0/1 [00:00<?, ?it/s]"
      ]
     },
     "metadata": {},
     "output_type": "display_data"
    },
    {
     "name": "stderr",
     "output_type": "stream",
     "text": [
      "Vertices after copying original graph: 143\n",
      "Vertices after first greedy triangulation: 27354\n",
      "Vertices after first pruning: 17743\n",
      "Vertices after second greedy triangulation: 34243\n",
      "Vertices after second pruning: 17743\n",
      "Vertices in shortest paths: 17743\n"
     ]
    },
    {
     "name": "stdout",
     "output_type": "stream",
     "text": [
      "Running iteration 15\n"
     ]
    },
    {
     "data": {
      "application/vnd.jupyter.widget-view+json": {
       "model_id": "",
       "version_major": 2,
       "version_minor": 0
      },
      "text/plain": [
       "Greedy triangulation on 60.0% subgraph:   0%|          | 0/1 [00:00<?, ?it/s]"
      ]
     },
     "metadata": {},
     "output_type": "display_data"
    },
    {
     "name": "stderr",
     "output_type": "stream",
     "text": [
      "Vertices after copying original graph: 143\n",
      "Vertices after first greedy triangulation: 26195\n",
      "Vertices after first pruning: 17480\n",
      "Vertices after second greedy triangulation: 34448\n",
      "Vertices after second pruning: 17480\n",
      "Vertices in shortest paths: 17480\n"
     ]
    },
    {
     "name": "stdout",
     "output_type": "stream",
     "text": [
      "Running iteration 16\n"
     ]
    },
    {
     "data": {
      "application/vnd.jupyter.widget-view+json": {
       "model_id": "",
       "version_major": 2,
       "version_minor": 0
      },
      "text/plain": [
       "Greedy triangulation on 60.0% subgraph:   0%|          | 0/1 [00:00<?, ?it/s]"
      ]
     },
     "metadata": {},
     "output_type": "display_data"
    },
    {
     "name": "stderr",
     "output_type": "stream",
     "text": [
      "Vertices after copying original graph: 143\n",
      "Vertices after first greedy triangulation: 26885\n",
      "Vertices after first pruning: 16369\n",
      "Vertices after second greedy triangulation: 34055\n",
      "Vertices after second pruning: 16369\n",
      "Vertices in shortest paths: 16369\n"
     ]
    },
    {
     "name": "stdout",
     "output_type": "stream",
     "text": [
      "Running iteration 17\n"
     ]
    },
    {
     "data": {
      "application/vnd.jupyter.widget-view+json": {
       "model_id": "",
       "version_major": 2,
       "version_minor": 0
      },
      "text/plain": [
       "Greedy triangulation on 60.0% subgraph:   0%|          | 0/1 [00:00<?, ?it/s]"
      ]
     },
     "metadata": {},
     "output_type": "display_data"
    },
    {
     "name": "stderr",
     "output_type": "stream",
     "text": [
      "Vertices after copying original graph: 143\n",
      "Vertices after first greedy triangulation: 25997\n",
      "Vertices after first pruning: 17020\n",
      "Vertices after second greedy triangulation: 33894\n",
      "Vertices after second pruning: 17020\n",
      "Vertices in shortest paths: 17020\n"
     ]
    },
    {
     "name": "stdout",
     "output_type": "stream",
     "text": [
      "Running iteration 18\n"
     ]
    },
    {
     "data": {
      "application/vnd.jupyter.widget-view+json": {
       "model_id": "",
       "version_major": 2,
       "version_minor": 0
      },
      "text/plain": [
       "Greedy triangulation on 60.0% subgraph:   0%|          | 0/1 [00:00<?, ?it/s]"
      ]
     },
     "metadata": {},
     "output_type": "display_data"
    },
    {
     "name": "stderr",
     "output_type": "stream",
     "text": [
      "Vertices after copying original graph: 143\n",
      "Vertices after first greedy triangulation: 25737\n",
      "Vertices after first pruning: 16895\n",
      "Vertices after second greedy triangulation: 34628\n",
      "Vertices after second pruning: 16895\n",
      "Vertices in shortest paths: 16895\n"
     ]
    },
    {
     "name": "stdout",
     "output_type": "stream",
     "text": [
      "Running iteration 19\n"
     ]
    },
    {
     "data": {
      "application/vnd.jupyter.widget-view+json": {
       "model_id": "",
       "version_major": 2,
       "version_minor": 0
      },
      "text/plain": [
       "Greedy triangulation on 60.0% subgraph:   0%|          | 0/1 [00:00<?, ?it/s]"
      ]
     },
     "metadata": {},
     "output_type": "display_data"
    },
    {
     "name": "stderr",
     "output_type": "stream",
     "text": [
      "Vertices after copying original graph: 143\n",
      "Vertices after first greedy triangulation: 26479\n",
      "Vertices after first pruning: 16221\n",
      "Vertices after second greedy triangulation: 33543\n",
      "Vertices after second pruning: 16221\n",
      "Vertices in shortest paths: 16221\n"
     ]
    },
    {
     "name": "stdout",
     "output_type": "stream",
     "text": [
      "Running iteration 20\n"
     ]
    },
    {
     "data": {
      "application/vnd.jupyter.widget-view+json": {
       "model_id": "",
       "version_major": 2,
       "version_minor": 0
      },
      "text/plain": [
       "Greedy triangulation on 60.0% subgraph:   0%|          | 0/1 [00:00<?, ?it/s]"
      ]
     },
     "metadata": {},
     "output_type": "display_data"
    },
    {
     "name": "stderr",
     "output_type": "stream",
     "text": [
      "Vertices after copying original graph: 143\n",
      "Vertices after first greedy triangulation: 25042\n",
      "Vertices after first pruning: 16187\n",
      "Vertices after second greedy triangulation: 33936\n",
      "Vertices after second pruning: 16187\n",
      "Vertices in shortest paths: 16187\n"
     ]
    },
    {
     "name": "stdout",
     "output_type": "stream",
     "text": [
      "Running iteration 21\n"
     ]
    },
    {
     "data": {
      "application/vnd.jupyter.widget-view+json": {
       "model_id": "",
       "version_major": 2,
       "version_minor": 0
      },
      "text/plain": [
       "Greedy triangulation on 60.0% subgraph:   0%|          | 0/1 [00:00<?, ?it/s]"
      ]
     },
     "metadata": {},
     "output_type": "display_data"
    },
    {
     "name": "stderr",
     "output_type": "stream",
     "text": [
      "Vertices after copying original graph: 143\n",
      "Vertices after first greedy triangulation: 26410\n",
      "Vertices after first pruning: 17001\n",
      "Vertices after second greedy triangulation: 34179\n",
      "Vertices after second pruning: 17001\n",
      "Vertices in shortest paths: 17001\n"
     ]
    },
    {
     "name": "stdout",
     "output_type": "stream",
     "text": [
      "Running iteration 22\n"
     ]
    },
    {
     "data": {
      "application/vnd.jupyter.widget-view+json": {
       "model_id": "",
       "version_major": 2,
       "version_minor": 0
      },
      "text/plain": [
       "Greedy triangulation on 60.0% subgraph:   0%|          | 0/1 [00:00<?, ?it/s]"
      ]
     },
     "metadata": {},
     "output_type": "display_data"
    },
    {
     "name": "stderr",
     "output_type": "stream",
     "text": [
      "Vertices after copying original graph: 143\n",
      "Vertices after first greedy triangulation: 26275\n",
      "Vertices after first pruning: 15877\n",
      "Vertices after second greedy triangulation: 34297\n",
      "Vertices after second pruning: 15877\n",
      "Vertices in shortest paths: 15877\n"
     ]
    },
    {
     "name": "stdout",
     "output_type": "stream",
     "text": [
      "Running iteration 23\n"
     ]
    },
    {
     "data": {
      "application/vnd.jupyter.widget-view+json": {
       "model_id": "",
       "version_major": 2,
       "version_minor": 0
      },
      "text/plain": [
       "Greedy triangulation on 60.0% subgraph:   0%|          | 0/1 [00:00<?, ?it/s]"
      ]
     },
     "metadata": {},
     "output_type": "display_data"
    },
    {
     "name": "stderr",
     "output_type": "stream",
     "text": [
      "Vertices after copying original graph: 143\n",
      "Vertices after first greedy triangulation: 27390\n",
      "Vertices after first pruning: 17227\n",
      "Vertices after second greedy triangulation: 34081\n",
      "Vertices after second pruning: 17227\n",
      "Vertices in shortest paths: 17227\n"
     ]
    },
    {
     "name": "stdout",
     "output_type": "stream",
     "text": [
      "Running iteration 24\n"
     ]
    },
    {
     "data": {
      "application/vnd.jupyter.widget-view+json": {
       "model_id": "",
       "version_major": 2,
       "version_minor": 0
      },
      "text/plain": [
       "Greedy triangulation on 60.0% subgraph:   0%|          | 0/1 [00:00<?, ?it/s]"
      ]
     },
     "metadata": {},
     "output_type": "display_data"
    },
    {
     "name": "stderr",
     "output_type": "stream",
     "text": [
      "Vertices after copying original graph: 143\n",
      "Vertices after first greedy triangulation: 26562\n",
      "Vertices after first pruning: 17722\n",
      "Vertices after second greedy triangulation: 33940\n",
      "Vertices after second pruning: 17722\n",
      "Vertices in shortest paths: 17722\n"
     ]
    },
    {
     "name": "stdout",
     "output_type": "stream",
     "text": [
      "Running iteration 25\n"
     ]
    },
    {
     "data": {
      "application/vnd.jupyter.widget-view+json": {
       "model_id": "",
       "version_major": 2,
       "version_minor": 0
      },
      "text/plain": [
       "Greedy triangulation on 60.0% subgraph:   0%|          | 0/1 [00:00<?, ?it/s]"
      ]
     },
     "metadata": {},
     "output_type": "display_data"
    },
    {
     "name": "stderr",
     "output_type": "stream",
     "text": [
      "Vertices after copying original graph: 143\n",
      "Vertices after first greedy triangulation: 26265\n",
      "Vertices after first pruning: 16328\n",
      "Vertices after second greedy triangulation: 34722\n",
      "Vertices after second pruning: 16328\n",
      "Vertices in shortest paths: 16328\n"
     ]
    },
    {
     "name": "stdout",
     "output_type": "stream",
     "text": [
      "Running iteration 26\n"
     ]
    },
    {
     "data": {
      "application/vnd.jupyter.widget-view+json": {
       "model_id": "",
       "version_major": 2,
       "version_minor": 0
      },
      "text/plain": [
       "Greedy triangulation on 60.0% subgraph:   0%|          | 0/1 [00:00<?, ?it/s]"
      ]
     },
     "metadata": {},
     "output_type": "display_data"
    },
    {
     "name": "stderr",
     "output_type": "stream",
     "text": [
      "Vertices after copying original graph: 143\n",
      "Vertices after first greedy triangulation: 26678\n",
      "Vertices after first pruning: 17402\n",
      "Vertices after second greedy triangulation: 34204\n",
      "Vertices after second pruning: 17402\n",
      "Vertices in shortest paths: 17402\n"
     ]
    },
    {
     "name": "stdout",
     "output_type": "stream",
     "text": [
      "Running iteration 27\n"
     ]
    },
    {
     "data": {
      "application/vnd.jupyter.widget-view+json": {
       "model_id": "",
       "version_major": 2,
       "version_minor": 0
      },
      "text/plain": [
       "Greedy triangulation on 60.0% subgraph:   0%|          | 0/1 [00:00<?, ?it/s]"
      ]
     },
     "metadata": {},
     "output_type": "display_data"
    },
    {
     "name": "stderr",
     "output_type": "stream",
     "text": [
      "Vertices after copying original graph: 143\n",
      "Vertices after first greedy triangulation: 24367\n",
      "Vertices after first pruning: 16014\n",
      "Vertices after second greedy triangulation: 33824\n",
      "Vertices after second pruning: 16014\n",
      "Vertices in shortest paths: 16014\n"
     ]
    },
    {
     "name": "stdout",
     "output_type": "stream",
     "text": [
      "Running iteration 28\n"
     ]
    },
    {
     "data": {
      "application/vnd.jupyter.widget-view+json": {
       "model_id": "",
       "version_major": 2,
       "version_minor": 0
      },
      "text/plain": [
       "Greedy triangulation on 60.0% subgraph:   0%|          | 0/1 [00:00<?, ?it/s]"
      ]
     },
     "metadata": {},
     "output_type": "display_data"
    },
    {
     "name": "stderr",
     "output_type": "stream",
     "text": [
      "Vertices after copying original graph: 143\n",
      "Vertices after first greedy triangulation: 26123\n",
      "Vertices after first pruning: 17360\n",
      "Vertices after second greedy triangulation: 34065\n",
      "Vertices after second pruning: 17360\n",
      "Vertices in shortest paths: 17360\n"
     ]
    },
    {
     "name": "stdout",
     "output_type": "stream",
     "text": [
      "Running iteration 29\n"
     ]
    },
    {
     "data": {
      "application/vnd.jupyter.widget-view+json": {
       "model_id": "",
       "version_major": 2,
       "version_minor": 0
      },
      "text/plain": [
       "Greedy triangulation on 60.0% subgraph:   0%|          | 0/1 [00:00<?, ?it/s]"
      ]
     },
     "metadata": {},
     "output_type": "display_data"
    },
    {
     "name": "stderr",
     "output_type": "stream",
     "text": [
      "Vertices after copying original graph: 143\n",
      "Vertices after first greedy triangulation: 26917\n",
      "Vertices after first pruning: 17510\n",
      "Vertices after second greedy triangulation: 34296\n",
      "Vertices after second pruning: 17510\n",
      "Vertices in shortest paths: 17510\n"
     ]
    },
    {
     "name": "stdout",
     "output_type": "stream",
     "text": [
      "Running iteration 30\n"
     ]
    },
    {
     "data": {
      "application/vnd.jupyter.widget-view+json": {
       "model_id": "",
       "version_major": 2,
       "version_minor": 0
      },
      "text/plain": [
       "Greedy triangulation on 60.0% subgraph:   0%|          | 0/1 [00:00<?, ?it/s]"
      ]
     },
     "metadata": {},
     "output_type": "display_data"
    },
    {
     "name": "stderr",
     "output_type": "stream",
     "text": [
      "Vertices after copying original graph: 143\n",
      "Vertices after first greedy triangulation: 26626\n",
      "Vertices after first pruning: 17654\n",
      "Vertices after second greedy triangulation: 33654\n",
      "Vertices after second pruning: 17654\n",
      "Vertices in shortest paths: 17654\n"
     ]
    },
    {
     "name": "stdout",
     "output_type": "stream",
     "text": [
      "Running iteration 31\n"
     ]
    },
    {
     "data": {
      "application/vnd.jupyter.widget-view+json": {
       "model_id": "",
       "version_major": 2,
       "version_minor": 0
      },
      "text/plain": [
       "Greedy triangulation on 60.0% subgraph:   0%|          | 0/1 [00:00<?, ?it/s]"
      ]
     },
     "metadata": {},
     "output_type": "display_data"
    },
    {
     "name": "stderr",
     "output_type": "stream",
     "text": [
      "Vertices after copying original graph: 143\n",
      "Vertices after first greedy triangulation: 26497\n",
      "Vertices after first pruning: 18350\n",
      "Vertices after second greedy triangulation: 34865\n",
      "Vertices after second pruning: 18350\n",
      "Vertices in shortest paths: 18350\n"
     ]
    },
    {
     "name": "stdout",
     "output_type": "stream",
     "text": [
      "Running iteration 32\n"
     ]
    },
    {
     "data": {
      "application/vnd.jupyter.widget-view+json": {
       "model_id": "",
       "version_major": 2,
       "version_minor": 0
      },
      "text/plain": [
       "Greedy triangulation on 60.0% subgraph:   0%|          | 0/1 [00:00<?, ?it/s]"
      ]
     },
     "metadata": {},
     "output_type": "display_data"
    },
    {
     "name": "stderr",
     "output_type": "stream",
     "text": [
      "Vertices after copying original graph: 143\n",
      "Vertices after first greedy triangulation: 26633\n",
      "Vertices after first pruning: 17505\n",
      "Vertices after second greedy triangulation: 34247\n",
      "Vertices after second pruning: 17505\n",
      "Vertices in shortest paths: 17505\n"
     ]
    },
    {
     "name": "stdout",
     "output_type": "stream",
     "text": [
      "Running iteration 33\n"
     ]
    },
    {
     "data": {
      "application/vnd.jupyter.widget-view+json": {
       "model_id": "",
       "version_major": 2,
       "version_minor": 0
      },
      "text/plain": [
       "Greedy triangulation on 60.0% subgraph:   0%|          | 0/1 [00:00<?, ?it/s]"
      ]
     },
     "metadata": {},
     "output_type": "display_data"
    },
    {
     "name": "stderr",
     "output_type": "stream",
     "text": [
      "Vertices after copying original graph: 143\n",
      "Vertices after first greedy triangulation: 25987\n",
      "Vertices after first pruning: 17080\n",
      "Vertices after second greedy triangulation: 34031\n",
      "Vertices after second pruning: 17080\n",
      "Vertices in shortest paths: 17080\n"
     ]
    },
    {
     "name": "stdout",
     "output_type": "stream",
     "text": [
      "Running iteration 34\n"
     ]
    },
    {
     "data": {
      "application/vnd.jupyter.widget-view+json": {
       "model_id": "",
       "version_major": 2,
       "version_minor": 0
      },
      "text/plain": [
       "Greedy triangulation on 60.0% subgraph:   0%|          | 0/1 [00:00<?, ?it/s]"
      ]
     },
     "metadata": {},
     "output_type": "display_data"
    },
    {
     "name": "stderr",
     "output_type": "stream",
     "text": [
      "Vertices after copying original graph: 143\n",
      "Vertices after first greedy triangulation: 25852\n",
      "Vertices after first pruning: 17415\n",
      "Vertices after second greedy triangulation: 33539\n",
      "Vertices after second pruning: 17415\n",
      "Vertices in shortest paths: 17415\n"
     ]
    },
    {
     "name": "stdout",
     "output_type": "stream",
     "text": [
      "Running iteration 35\n"
     ]
    },
    {
     "data": {
      "application/vnd.jupyter.widget-view+json": {
       "model_id": "",
       "version_major": 2,
       "version_minor": 0
      },
      "text/plain": [
       "Greedy triangulation on 60.0% subgraph:   0%|          | 0/1 [00:00<?, ?it/s]"
      ]
     },
     "metadata": {},
     "output_type": "display_data"
    },
    {
     "name": "stderr",
     "output_type": "stream",
     "text": [
      "Vertices after copying original graph: 143\n",
      "Vertices after first greedy triangulation: 25830\n",
      "Vertices after first pruning: 16614\n",
      "Vertices after second greedy triangulation: 34453\n",
      "Vertices after second pruning: 16614\n",
      "Vertices in shortest paths: 16614\n"
     ]
    },
    {
     "name": "stdout",
     "output_type": "stream",
     "text": [
      "Running iteration 36\n"
     ]
    },
    {
     "data": {
      "application/vnd.jupyter.widget-view+json": {
       "model_id": "",
       "version_major": 2,
       "version_minor": 0
      },
      "text/plain": [
       "Greedy triangulation on 60.0% subgraph:   0%|          | 0/1 [00:00<?, ?it/s]"
      ]
     },
     "metadata": {},
     "output_type": "display_data"
    },
    {
     "name": "stderr",
     "output_type": "stream",
     "text": [
      "Vertices after copying original graph: 143\n",
      "Vertices after first greedy triangulation: 26211\n",
      "Vertices after first pruning: 16477\n",
      "Vertices after second greedy triangulation: 33935\n",
      "Vertices after second pruning: 16477\n",
      "Vertices in shortest paths: 16477\n"
     ]
    },
    {
     "name": "stdout",
     "output_type": "stream",
     "text": [
      "Running iteration 37\n"
     ]
    },
    {
     "data": {
      "application/vnd.jupyter.widget-view+json": {
       "model_id": "",
       "version_major": 2,
       "version_minor": 0
      },
      "text/plain": [
       "Greedy triangulation on 60.0% subgraph:   0%|          | 0/1 [00:00<?, ?it/s]"
      ]
     },
     "metadata": {},
     "output_type": "display_data"
    },
    {
     "name": "stderr",
     "output_type": "stream",
     "text": [
      "Vertices after copying original graph: 143\n",
      "Vertices after first greedy triangulation: 26229\n",
      "Vertices after first pruning: 17811\n",
      "Vertices after second greedy triangulation: 33631\n",
      "Vertices after second pruning: 17811\n",
      "Vertices in shortest paths: 17811\n"
     ]
    },
    {
     "name": "stdout",
     "output_type": "stream",
     "text": [
      "Running iteration 38\n"
     ]
    },
    {
     "data": {
      "application/vnd.jupyter.widget-view+json": {
       "model_id": "",
       "version_major": 2,
       "version_minor": 0
      },
      "text/plain": [
       "Greedy triangulation on 60.0% subgraph:   0%|          | 0/1 [00:00<?, ?it/s]"
      ]
     },
     "metadata": {},
     "output_type": "display_data"
    },
    {
     "name": "stderr",
     "output_type": "stream",
     "text": [
      "Vertices after copying original graph: 143\n",
      "Vertices after first greedy triangulation: 26261\n",
      "Vertices after first pruning: 16644\n",
      "Vertices after second greedy triangulation: 34010\n",
      "Vertices after second pruning: 16644\n",
      "Vertices in shortest paths: 16644\n"
     ]
    },
    {
     "name": "stdout",
     "output_type": "stream",
     "text": [
      "Running iteration 39\n"
     ]
    }
   ],
   "source": [
    "for placeid, placeinfo in tqdm(cities.items(), desc=\"Cities\"):\n",
    "    print(placeid + \": Generating graph and POIs\")\n",
    "\n",
    "    G_carall = csv_to_ig(PATH[\"data\"] + placeid + \"/\", placeid, 'carall')\n",
    "    with open(PATH[\"data\"] + placeid + \"/\" + placeid + '_poi_' + poi_source + '_nnidscarall.csv') as f:\n",
    "        nnids = [int(line.rstrip()) for line in f]\n",
    "\n",
    "    numIterations = 2\n",
    "    subgraph_percentages = [0.6, 0.4]\n",
    "    prune_quantiles = [0.5]\n",
    "    for prune_measure in [\"betweenness\", \"random\", \"closeness\"]:\n",
    "        print(f\"Prune measure: {prune_measure}\")\n",
    "\n",
    "        (GTs, GT_abstracts) = _greedy_triangulation_routing(G_carall, nnids, prune_quantiles, prune_measure)\n",
    "\n",
    "        print(f\"Writing data to {placeid}_{prune_measure}.csv\")\n",
    "        with open(f'{placeid}_{prune_measure}.csv', 'w') as f:\n",
    "            writer = csv.writer(f)\n",
    "            writer.writerow([\n",
    "                \"sum_of_errors\",\n",
    "                \"continuous_vertices\",\n",
    "                \"bikengrowth_vertices\",\n",
    "                \"continuous_disconnected_pairs\",\n",
    "                \"bikengrowth_disconnected_pairs\",\n",
    "            ])\n",
    "\n",
    "            for i in range(100):\n",
    "                print(f\"Running iteration {i + 1}\")\n",
    "                if prune_measure == \"random\":\n",
    "                    (GTs, GT_abstracts) = _greedy_triangulation_routing(G_carall, nnids, prune_quantiles, prune_measure)\n",
    "\n",
    "                gts, abstract_gts = greedy_triangulation_in_steps(G_carall, nnids, numIterations, subgraph_percentages, prune_quantiles, prune_measure)\n",
    "\n",
    "                for prune_quantile, gt, szell_gt in zip(prune_quantiles, gts, GTs):\n",
    "                    error, our_disconnected_points, szell_disconnected_points = sum_of_errors_pois(szell_gt, gt, nnids)\n",
    "\n",
    "                writer.writerow([error, gt.vcount(), szell_gt.vcount(), our_disconnected_points, szell_disconnected_points])"
   ]
  },
  {
   "cell_type": "code",
   "execution_count": null,
   "id": "aacfe684b23f890",
   "metadata": {},
   "outputs": [],
   "source": [
    "for placeid, placeinfo in tqdm(cities.items(), desc=\"Cities\"):\n",
    "    result_file = open(PATH[\"results\"] + placeid + \"/\" + filename + \".pickle\", 'rb')\n",
    "    res = pickle.load(result_file)\n",
    "    szell_gts = res[\"GTs\"]"
   ]
  },
  {
   "cell_type": "code",
   "execution_count": null,
   "id": "f01360a85c9f2c30",
   "metadata": {},
   "outputs": [],
   "source": []
  }
 ],
 "metadata": {
  "kernelspec": {
   "display_name": "Python 3 (ipykernel)",
   "language": "python",
   "name": "python3"
  },
  "language_info": {
   "codemirror_mode": {
    "name": "ipython",
    "version": 3
   },
   "file_extension": ".py",
   "mimetype": "text/x-python",
   "name": "python",
   "nbconvert_exporter": "python",
   "pygments_lexer": "ipython3",
   "version": "3.12.7"
  }
 },
 "nbformat": 4,
 "nbformat_minor": 5
}
