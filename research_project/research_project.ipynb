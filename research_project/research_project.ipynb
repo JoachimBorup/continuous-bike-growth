{
 "cells": [
  {
   "cell_type": "markdown",
   "id": "e70580174f0d1cd",
   "metadata": {},
   "source": [
    "# Setup"
   ]
  },
  {
   "cell_type": "code",
   "execution_count": null,
   "id": "initial_id",
   "metadata": {},
   "outputs": [],
   "source": [
    "import os\n",
    "import sys\n",
    "sys.path.append(\"..\")\n",
    "debug = True # If True, will produce plots and/or verbose output to double-check\n",
    "rerun_existing = False # \n",
    "\n",
    "# Path\n",
    "print(\"Current working directory: \", sys.path[0])\n",
    "%run -i \"../parameters/parameters.py\"\n",
    "%run -i \"../src/path.py\"\n",
    "%run -i \"../src/setup.py\"\n",
    "%run -i \"../src/functions.py\"\n",
    "%run -i \"greedy_triangulation.py\"\n",
    "%run -i \"graph_similarity.py\"\n",
    "%run -i \"write_results_percentages.py\"\n",
    "%run -i \"analyze_poi_based_results.py\"\n",
    "%run -i \"generate_network_plots.py\"\n",
    "\n",
    "%load_ext watermark\n",
    "%watermark -n -v -m -g -iv"
   ]
  },
  {
   "cell_type": "code",
   "execution_count": null,
   "id": "96db9e6b",
   "metadata": {},
   "outputs": [],
   "source": [
    "\n",
    "city = \"bern\"\n",
    "iterations = 2\n",
    "\n",
    "prune_quantiles = [0.5]\n",
    "subgraph_percentages_tests = [\n",
    "    [0.25, 0.25, 0.25, 0.25],\n",
    "    [0.75, 0.25],\n",
    "    [0.25, 0.75],\n",
    "    [0.33, 0.33, 0.34],\n",
    "]\n",
    "\n",
    "prune_measures = [\"betweenness\"]"
   ]
  },
  {
   "cell_type": "markdown",
   "id": "1cf3a15bf0f54fd0",
   "metadata": {},
   "source": [
    "# Run the program"
   ]
  },
  {
   "cell_type": "code",
   "execution_count": null,
   "id": "4b5966f41d05f75f",
   "metadata": {},
   "outputs": [],
   "source": [
    "placeid = city\n",
    "print(placeid + \": Generating graph and POIs\")\n",
    "\n",
    "G_carall = csv_to_ig(PATH[\"data\"] + placeid + \"/\", placeid, 'carall')\n",
    "with open(PATH[\"data\"] + placeid + \"/\" + placeid + '_poi_' + poi_source + '_nnidscarall.csv') as f:\n",
    "    nnids = [int(line.rstrip()) for line in f]\n",
    "\n",
    "for prune_measure in prune_measures:\n",
    "    print(f\"Prune measure: {prune_measure}\")\n",
    "\n",
    "    (GTs, GT_abstracts) = _greedy_triangulation_routing(G_carall, nnids, prune_quantiles, prune_measure)\n",
    "\n",
    "    for subgraph_percentages in subgraph_percentages_tests:\n",
    "        subgraph_percentage_string = '_'.join(map(str, subgraph_percentages))\n",
    "        file_name = f\"{placeid}_{prune_measure}_{subgraph_percentage_string}.csv\"\n",
    "        print(f\"Writing data to {file_name}\")\n",
    "        dir = \"csv_data/\"\n",
    "        path = os.path.join(dir, file_name)\n",
    "        with open(path, 'w') as f:\n",
    "            writer = csv.writer(f)\n",
    "            writer.writerow([\n",
    "                \"sum_of_errors\",\n",
    "                \"continuous_vertices\",\n",
    "                \"bikengrowth_vertices\",\n",
    "                \"continuous_disconnected_pairs\",\n",
    "                \"bikengrowth_disconnected_pairs\",\n",
    "            ])\n",
    "\n",
    "            for i in tqdm(range(iterations), desc=\"Iterations\", leave=False):\n",
    "                if prune_measure == \"random\":\n",
    "                    (GTs, GT_abstracts) = _greedy_triangulation_routing(G_carall, nnids, prune_quantiles, prune_measure)\n",
    "\n",
    "                gts, abstract_gts = greedy_triangulation_in_steps(G_carall, nnids, subgraph_percentages, prune_quantiles, prune_measure)\n",
    "                (MST, MST_abstract) = mst_routing(G_carall, nnids)\n",
    "                for prune_quantile, gt, szell_gt in zip(prune_quantiles, gts, GTs):\n",
    "                    error, our_disconnected_points, szell_disconnected_points = sum_of_errors_pois(szell_gt, gt, nnids)\n",
    "\n",
    "                writer.writerow([error, gt.vcount(), szell_gt.vcount(), our_disconnected_points, szell_disconnected_points])\n",
    "                results = {\"placeid\": placeid, \"prune_measure\": prune_measure, \"poi_source\": poi_source, \"prune_quantiles\": prune_quantiles, \"GTs\": GTs, \"GT_abstracts\": GT_abstracts, \"MST\": MST, \"MST_abstract\": MST_abstract}\n",
    "                write_result_with_percentages(res=results, mode=\"pickle\", placeid=placeid, iteration=str(i), subgraph_percentage=subgraph_percentage_string, poi_source=poi_source, prune_measure=prune_measure, suffix=\".pickle\")"
   ]
  },
  {
   "cell_type": "code",
   "execution_count": null,
   "id": "926ae2b3",
   "metadata": {},
   "outputs": [],
   "source": [
    "string_list_subgraph_percentage = []\n",
    "for subgraph_percentage in subgraph_percentages_tests:\n",
    "    string_list_subgraph_percentage.append('_'.join(map(str, subgraph_percentage)))\n",
    "\n"
   ]
  },
  {
   "cell_type": "code",
   "execution_count": null,
   "id": "7f542b18",
   "metadata": {},
   "outputs": [],
   "source": [
    "# Analyze results\n",
    "analyze_existing_infrastructure([placeid])\n",
    "\n",
    "analyze_poi_base_results_iterations(placeid=placeid, subgraphs_percentages=string_list_subgraph_percentage, iterations=iterations)"
   ]
  },
  {
   "cell_type": "code",
   "execution_count": null,
   "id": "4963cbfe",
   "metadata": {},
   "outputs": [],
   "source": [
    "#generate_plots\n",
    "existing_network_plot(placeid=placeid, prune_measures=prune_measures)"
   ]
  },
  {
   "cell_type": "code",
   "execution_count": null,
   "id": "7aec4a24",
   "metadata": {},
   "outputs": [],
   "source": [
    "%run -i \"generate_network_plots.py\"\n",
    "\n",
    "subgraph_percentages_with_iterations_plot(placeid=placeid, prune_measures=prune_measures, subgraphs_percentages=string_list_subgraph_percentage, iterations=iterations)"
   ]
  }
 ],
 "metadata": {
  "kernelspec": {
   "display_name": "OSMNX",
   "language": "python",
   "name": "python3"
  },
  "language_info": {
   "codemirror_mode": {
    "name": "ipython",
    "version": 3
   },
   "file_extension": ".py",
   "mimetype": "text/x-python",
   "name": "python",
   "nbconvert_exporter": "python",
   "pygments_lexer": "ipython3"
  }
 },
 "nbformat": 4,
 "nbformat_minor": 5
}
